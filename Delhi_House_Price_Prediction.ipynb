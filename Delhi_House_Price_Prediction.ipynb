{
  "metadata": {
    "kernelspec": {
      "language": "python",
      "display_name": "Python 3",
      "name": "python3"
    },
    "language_info": {
      "name": "python",
      "version": "3.10.13",
      "mimetype": "text/x-python",
      "codemirror_mode": {
        "name": "ipython",
        "version": 3
      },
      "pygments_lexer": "ipython3",
      "nbconvert_exporter": "python",
      "file_extension": ".py"
    },
    "kaggle": {
      "accelerator": "none",
      "dataSources": [
        {
          "sourceId": 854899,
          "sourceType": "datasetVersion",
          "datasetId": 452607
        }
      ],
      "dockerImageVersionId": 30698,
      "isInternetEnabled": false,
      "language": "python",
      "sourceType": "notebook",
      "isGpuEnabled": false
    },
    "colab": {
      "provenance": []
    }
  },
  "nbformat_minor": 0,
  "nbformat": 4,
  "cells": [
    {
      "cell_type": "code",
      "source": [
        "import numpy as np\n",
        "import pandas as pd\n",
        "import matplotlib.pyplot as plt\n",
        "import seaborn as sns\n",
        "\n",
        "from sklearn.model_selection import train_test_split\n",
        "from sklearn import metrics\n",
        "\n",
        "import warnings\n",
        "\n",
        "warnings.filterwarnings(\"ignore\",\"FutureWarning\")\n",
        "\n"
      ],
      "metadata": {
        "_uuid": "8f2839f25d086af736a60e9eeb907d3b93b6e0e5",
        "_cell_guid": "b1076dfc-b9ad-4769-8c92-a6c4dae69d19",
        "execution": {
          "iopub.status.busy": "2024-05-27T12:01:00.950638Z",
          "iopub.execute_input": "2024-05-27T12:01:00.951064Z",
          "iopub.status.idle": "2024-05-27T12:01:02.111101Z",
          "shell.execute_reply.started": "2024-05-27T12:01:00.951028Z",
          "shell.execute_reply": "2024-05-27T12:01:02.109998Z"
        },
        "editable": false,
        "trusted": true,
        "id": "IHYSpycLHkSa"
      },
      "execution_count": null,
      "outputs": []
    },
    {
      "cell_type": "code",
      "source": [
        "from IPython.display import display, HTML\n",
        "\n",
        "\n",
        "content = \"\"\"\n",
        "<div style=\"background-color: #90e0ef; padding: 20px; border-radius: 10px;\">\n",
        "    <h1>Data Acquisition</h1>\n",
        "</div>\n",
        "\"\"\"\n",
        "\n",
        "# Display the HTML content\n",
        "display(HTML(content))"
      ],
      "metadata": {
        "execution": {
          "iopub.status.busy": "2024-05-27T12:08:36.529161Z",
          "iopub.execute_input": "2024-05-27T12:08:36.52998Z",
          "iopub.status.idle": "2024-05-27T12:08:36.537304Z",
          "shell.execute_reply.started": "2024-05-27T12:08:36.529942Z",
          "shell.execute_reply": "2024-05-27T12:08:36.536256Z"
        },
        "_kg_hide-input": true,
        "editable": false,
        "trusted": true,
        "colab": {
          "base_uri": "https://localhost:8080/",
          "height": 114
        },
        "id": "RXZoQfE4HkSc",
        "outputId": "0feda2c7-deaf-41e0-fb87-9bcf7fea82c4"
      },
      "execution_count": null,
      "outputs": [
        {
          "output_type": "display_data",
          "data": {
            "text/plain": [
              "<IPython.core.display.HTML object>"
            ],
            "text/html": [
              "\n",
              "<div style=\"background-color: #90e0ef; padding: 20px; border-radius: 10px;\">\n",
              "    <h1>Data Acquisition</h1>\n",
              "</div>\n"
            ]
          },
          "metadata": {}
        }
      ]
    },
    {
      "cell_type": "code",
      "source": [
        "from google.colab import files\n",
        "import pandas as pd\n",
        "\n",
        "files.upload()\n",
        "df = pd.read_csv('Delhi_House_Price_Data.csv')"
      ],
      "metadata": {
        "editable": false,
        "trusted": true,
        "colab": {
          "base_uri": "https://localhost:8080/",
          "height": 73
        },
        "id": "aRwMmh7UHkSc",
        "outputId": "ec402e4f-5a82-4ecb-f4cf-7e2be4cebb7f"
      },
      "execution_count": null,
      "outputs": [
        {
          "output_type": "display_data",
          "data": {
            "text/plain": [
              "<IPython.core.display.HTML object>"
            ],
            "text/html": [
              "\n",
              "     <input type=\"file\" id=\"files-eefdfe2e-f410-4d32-ba9c-f7c13cf1b9a3\" name=\"files[]\" multiple disabled\n",
              "        style=\"border:none\" />\n",
              "     <output id=\"result-eefdfe2e-f410-4d32-ba9c-f7c13cf1b9a3\">\n",
              "      Upload widget is only available when the cell has been executed in the\n",
              "      current browser session. Please rerun this cell to enable.\n",
              "      </output>\n",
              "      <script>// Copyright 2017 Google LLC\n",
              "//\n",
              "// Licensed under the Apache License, Version 2.0 (the \"License\");\n",
              "// you may not use this file except in compliance with the License.\n",
              "// You may obtain a copy of the License at\n",
              "//\n",
              "//      http://www.apache.org/licenses/LICENSE-2.0\n",
              "//\n",
              "// Unless required by applicable law or agreed to in writing, software\n",
              "// distributed under the License is distributed on an \"AS IS\" BASIS,\n",
              "// WITHOUT WARRANTIES OR CONDITIONS OF ANY KIND, either express or implied.\n",
              "// See the License for the specific language governing permissions and\n",
              "// limitations under the License.\n",
              "\n",
              "/**\n",
              " * @fileoverview Helpers for google.colab Python module.\n",
              " */\n",
              "(function(scope) {\n",
              "function span(text, styleAttributes = {}) {\n",
              "  const element = document.createElement('span');\n",
              "  element.textContent = text;\n",
              "  for (const key of Object.keys(styleAttributes)) {\n",
              "    element.style[key] = styleAttributes[key];\n",
              "  }\n",
              "  return element;\n",
              "}\n",
              "\n",
              "// Max number of bytes which will be uploaded at a time.\n",
              "const MAX_PAYLOAD_SIZE = 100 * 1024;\n",
              "\n",
              "function _uploadFiles(inputId, outputId) {\n",
              "  const steps = uploadFilesStep(inputId, outputId);\n",
              "  const outputElement = document.getElementById(outputId);\n",
              "  // Cache steps on the outputElement to make it available for the next call\n",
              "  // to uploadFilesContinue from Python.\n",
              "  outputElement.steps = steps;\n",
              "\n",
              "  return _uploadFilesContinue(outputId);\n",
              "}\n",
              "\n",
              "// This is roughly an async generator (not supported in the browser yet),\n",
              "// where there are multiple asynchronous steps and the Python side is going\n",
              "// to poll for completion of each step.\n",
              "// This uses a Promise to block the python side on completion of each step,\n",
              "// then passes the result of the previous step as the input to the next step.\n",
              "function _uploadFilesContinue(outputId) {\n",
              "  const outputElement = document.getElementById(outputId);\n",
              "  const steps = outputElement.steps;\n",
              "\n",
              "  const next = steps.next(outputElement.lastPromiseValue);\n",
              "  return Promise.resolve(next.value.promise).then((value) => {\n",
              "    // Cache the last promise value to make it available to the next\n",
              "    // step of the generator.\n",
              "    outputElement.lastPromiseValue = value;\n",
              "    return next.value.response;\n",
              "  });\n",
              "}\n",
              "\n",
              "/**\n",
              " * Generator function which is called between each async step of the upload\n",
              " * process.\n",
              " * @param {string} inputId Element ID of the input file picker element.\n",
              " * @param {string} outputId Element ID of the output display.\n",
              " * @return {!Iterable<!Object>} Iterable of next steps.\n",
              " */\n",
              "function* uploadFilesStep(inputId, outputId) {\n",
              "  const inputElement = document.getElementById(inputId);\n",
              "  inputElement.disabled = false;\n",
              "\n",
              "  const outputElement = document.getElementById(outputId);\n",
              "  outputElement.innerHTML = '';\n",
              "\n",
              "  const pickedPromise = new Promise((resolve) => {\n",
              "    inputElement.addEventListener('change', (e) => {\n",
              "      resolve(e.target.files);\n",
              "    });\n",
              "  });\n",
              "\n",
              "  const cancel = document.createElement('button');\n",
              "  inputElement.parentElement.appendChild(cancel);\n",
              "  cancel.textContent = 'Cancel upload';\n",
              "  const cancelPromise = new Promise((resolve) => {\n",
              "    cancel.onclick = () => {\n",
              "      resolve(null);\n",
              "    };\n",
              "  });\n",
              "\n",
              "  // Wait for the user to pick the files.\n",
              "  const files = yield {\n",
              "    promise: Promise.race([pickedPromise, cancelPromise]),\n",
              "    response: {\n",
              "      action: 'starting',\n",
              "    }\n",
              "  };\n",
              "\n",
              "  cancel.remove();\n",
              "\n",
              "  // Disable the input element since further picks are not allowed.\n",
              "  inputElement.disabled = true;\n",
              "\n",
              "  if (!files) {\n",
              "    return {\n",
              "      response: {\n",
              "        action: 'complete',\n",
              "      }\n",
              "    };\n",
              "  }\n",
              "\n",
              "  for (const file of files) {\n",
              "    const li = document.createElement('li');\n",
              "    li.append(span(file.name, {fontWeight: 'bold'}));\n",
              "    li.append(span(\n",
              "        `(${file.type || 'n/a'}) - ${file.size} bytes, ` +\n",
              "        `last modified: ${\n",
              "            file.lastModifiedDate ? file.lastModifiedDate.toLocaleDateString() :\n",
              "                                    'n/a'} - `));\n",
              "    const percent = span('0% done');\n",
              "    li.appendChild(percent);\n",
              "\n",
              "    outputElement.appendChild(li);\n",
              "\n",
              "    const fileDataPromise = new Promise((resolve) => {\n",
              "      const reader = new FileReader();\n",
              "      reader.onload = (e) => {\n",
              "        resolve(e.target.result);\n",
              "      };\n",
              "      reader.readAsArrayBuffer(file);\n",
              "    });\n",
              "    // Wait for the data to be ready.\n",
              "    let fileData = yield {\n",
              "      promise: fileDataPromise,\n",
              "      response: {\n",
              "        action: 'continue',\n",
              "      }\n",
              "    };\n",
              "\n",
              "    // Use a chunked sending to avoid message size limits. See b/62115660.\n",
              "    let position = 0;\n",
              "    do {\n",
              "      const length = Math.min(fileData.byteLength - position, MAX_PAYLOAD_SIZE);\n",
              "      const chunk = new Uint8Array(fileData, position, length);\n",
              "      position += length;\n",
              "\n",
              "      const base64 = btoa(String.fromCharCode.apply(null, chunk));\n",
              "      yield {\n",
              "        response: {\n",
              "          action: 'append',\n",
              "          file: file.name,\n",
              "          data: base64,\n",
              "        },\n",
              "      };\n",
              "\n",
              "      let percentDone = fileData.byteLength === 0 ?\n",
              "          100 :\n",
              "          Math.round((position / fileData.byteLength) * 100);\n",
              "      percent.textContent = `${percentDone}% done`;\n",
              "\n",
              "    } while (position < fileData.byteLength);\n",
              "  }\n",
              "\n",
              "  // All done.\n",
              "  yield {\n",
              "    response: {\n",
              "      action: 'complete',\n",
              "    }\n",
              "  };\n",
              "}\n",
              "\n",
              "scope.google = scope.google || {};\n",
              "scope.google.colab = scope.google.colab || {};\n",
              "scope.google.colab._files = {\n",
              "  _uploadFiles,\n",
              "  _uploadFilesContinue,\n",
              "};\n",
              "})(self);\n",
              "</script> "
            ]
          },
          "metadata": {}
        },
        {
          "output_type": "stream",
          "name": "stdout",
          "text": [
            "Saving Delhi_House_Price_Data.csv to Delhi_House_Price_Data.csv\n"
          ]
        }
      ]
    },
    {
      "cell_type": "code",
      "source": [
        "from IPython.display import display, HTML\n",
        "\n",
        "\n",
        "content = \"\"\"\n",
        "<div style=\"background-color: #90e0ef; padding: 20px; border-radius: 10px;\">\n",
        "    <h1>Data Understanding</h1>\n",
        "</div>\n",
        "\"\"\"\n",
        "\n",
        "# Display the HTML content\n",
        "display(HTML(content))"
      ],
      "metadata": {
        "execution": {
          "iopub.status.busy": "2024-05-27T12:08:25.981174Z",
          "iopub.execute_input": "2024-05-27T12:08:25.982174Z",
          "iopub.status.idle": "2024-05-27T12:08:25.989554Z",
          "shell.execute_reply.started": "2024-05-27T12:08:25.982136Z",
          "shell.execute_reply": "2024-05-27T12:08:25.988639Z"
        },
        "_kg_hide-input": true,
        "editable": false,
        "trusted": true,
        "colab": {
          "base_uri": "https://localhost:8080/",
          "height": 114
        },
        "id": "7clcaKghHkSd",
        "outputId": "18d1e244-27be-4f32-dd37-1f35d4d7d9ab"
      },
      "execution_count": null,
      "outputs": [
        {
          "output_type": "display_data",
          "data": {
            "text/plain": [
              "<IPython.core.display.HTML object>"
            ],
            "text/html": [
              "\n",
              "<div style=\"background-color: #90e0ef; padding: 20px; border-radius: 10px;\">\n",
              "    <h1>Data Understanding</h1>\n",
              "</div>\n"
            ]
          },
          "metadata": {}
        }
      ]
    },
    {
      "cell_type": "code",
      "source": [
        "df.head()"
      ],
      "metadata": {
        "execution": {
          "iopub.status.busy": "2024-05-27T12:01:02.132575Z",
          "iopub.execute_input": "2024-05-27T12:01:02.132909Z",
          "iopub.status.idle": "2024-05-27T12:01:02.154901Z",
          "shell.execute_reply.started": "2024-05-27T12:01:02.13288Z",
          "shell.execute_reply": "2024-05-27T12:01:02.153805Z"
        },
        "editable": false,
        "trusted": true,
        "colab": {
          "base_uri": "https://localhost:8080/",
          "height": 206
        },
        "id": "q-abzbs1HkSd",
        "outputId": "0b67f463-ede6-4dfa-dd17-e79e1cc6442e"
      },
      "execution_count": null,
      "outputs": [
        {
          "output_type": "execute_result",
          "data": {
            "text/plain": [
              "    Area  BHK  Bathroom      Furnishing  \\\n",
              "0  800.0    3       2.0  Semi-Furnished   \n",
              "1  750.0    2       2.0  Semi-Furnished   \n",
              "2  950.0    2       2.0       Furnished   \n",
              "3  600.0    2       2.0  Semi-Furnished   \n",
              "4  650.0    2       2.0  Semi-Furnished   \n",
              "\n",
              "                                            Locality  Parking     Price  \\\n",
              "0                                   Rohini Sector 25      1.0   6500000   \n",
              "1             J R Designers Floors, Rohini Sector 24      1.0   5000000   \n",
              "2                Citizen Apartment, Rohini Sector 13      1.0  15500000   \n",
              "3                                   Rohini Sector 24      1.0   4200000   \n",
              "4  Rohini Sector 24 carpet area 650 sqft status R...      1.0   6200000   \n",
              "\n",
              "          Status   Transaction           Type  Per_Sqft  \n",
              "0  Ready_to_move  New_Property  Builder_Floor       NaN  \n",
              "1  Ready_to_move  New_Property      Apartment    6667.0  \n",
              "2  Ready_to_move        Resale      Apartment    6667.0  \n",
              "3  Ready_to_move        Resale  Builder_Floor    6667.0  \n",
              "4  Ready_to_move  New_Property  Builder_Floor    6667.0  "
            ],
            "text/html": [
              "\n",
              "  <div id=\"df-e91afe4b-b4ef-408b-9582-a4d060918480\" class=\"colab-df-container\">\n",
              "    <div>\n",
              "<style scoped>\n",
              "    .dataframe tbody tr th:only-of-type {\n",
              "        vertical-align: middle;\n",
              "    }\n",
              "\n",
              "    .dataframe tbody tr th {\n",
              "        vertical-align: top;\n",
              "    }\n",
              "\n",
              "    .dataframe thead th {\n",
              "        text-align: right;\n",
              "    }\n",
              "</style>\n",
              "<table border=\"1\" class=\"dataframe\">\n",
              "  <thead>\n",
              "    <tr style=\"text-align: right;\">\n",
              "      <th></th>\n",
              "      <th>Area</th>\n",
              "      <th>BHK</th>\n",
              "      <th>Bathroom</th>\n",
              "      <th>Furnishing</th>\n",
              "      <th>Locality</th>\n",
              "      <th>Parking</th>\n",
              "      <th>Price</th>\n",
              "      <th>Status</th>\n",
              "      <th>Transaction</th>\n",
              "      <th>Type</th>\n",
              "      <th>Per_Sqft</th>\n",
              "    </tr>\n",
              "  </thead>\n",
              "  <tbody>\n",
              "    <tr>\n",
              "      <th>0</th>\n",
              "      <td>800.0</td>\n",
              "      <td>3</td>\n",
              "      <td>2.0</td>\n",
              "      <td>Semi-Furnished</td>\n",
              "      <td>Rohini Sector 25</td>\n",
              "      <td>1.0</td>\n",
              "      <td>6500000</td>\n",
              "      <td>Ready_to_move</td>\n",
              "      <td>New_Property</td>\n",
              "      <td>Builder_Floor</td>\n",
              "      <td>NaN</td>\n",
              "    </tr>\n",
              "    <tr>\n",
              "      <th>1</th>\n",
              "      <td>750.0</td>\n",
              "      <td>2</td>\n",
              "      <td>2.0</td>\n",
              "      <td>Semi-Furnished</td>\n",
              "      <td>J R Designers Floors, Rohini Sector 24</td>\n",
              "      <td>1.0</td>\n",
              "      <td>5000000</td>\n",
              "      <td>Ready_to_move</td>\n",
              "      <td>New_Property</td>\n",
              "      <td>Apartment</td>\n",
              "      <td>6667.0</td>\n",
              "    </tr>\n",
              "    <tr>\n",
              "      <th>2</th>\n",
              "      <td>950.0</td>\n",
              "      <td>2</td>\n",
              "      <td>2.0</td>\n",
              "      <td>Furnished</td>\n",
              "      <td>Citizen Apartment, Rohini Sector 13</td>\n",
              "      <td>1.0</td>\n",
              "      <td>15500000</td>\n",
              "      <td>Ready_to_move</td>\n",
              "      <td>Resale</td>\n",
              "      <td>Apartment</td>\n",
              "      <td>6667.0</td>\n",
              "    </tr>\n",
              "    <tr>\n",
              "      <th>3</th>\n",
              "      <td>600.0</td>\n",
              "      <td>2</td>\n",
              "      <td>2.0</td>\n",
              "      <td>Semi-Furnished</td>\n",
              "      <td>Rohini Sector 24</td>\n",
              "      <td>1.0</td>\n",
              "      <td>4200000</td>\n",
              "      <td>Ready_to_move</td>\n",
              "      <td>Resale</td>\n",
              "      <td>Builder_Floor</td>\n",
              "      <td>6667.0</td>\n",
              "    </tr>\n",
              "    <tr>\n",
              "      <th>4</th>\n",
              "      <td>650.0</td>\n",
              "      <td>2</td>\n",
              "      <td>2.0</td>\n",
              "      <td>Semi-Furnished</td>\n",
              "      <td>Rohini Sector 24 carpet area 650 sqft status R...</td>\n",
              "      <td>1.0</td>\n",
              "      <td>6200000</td>\n",
              "      <td>Ready_to_move</td>\n",
              "      <td>New_Property</td>\n",
              "      <td>Builder_Floor</td>\n",
              "      <td>6667.0</td>\n",
              "    </tr>\n",
              "  </tbody>\n",
              "</table>\n",
              "</div>\n",
              "    <div class=\"colab-df-buttons\">\n",
              "\n",
              "  <div class=\"colab-df-container\">\n",
              "    <button class=\"colab-df-convert\" onclick=\"convertToInteractive('df-e91afe4b-b4ef-408b-9582-a4d060918480')\"\n",
              "            title=\"Convert this dataframe to an interactive table.\"\n",
              "            style=\"display:none;\">\n",
              "\n",
              "  <svg xmlns=\"http://www.w3.org/2000/svg\" height=\"24px\" viewBox=\"0 -960 960 960\">\n",
              "    <path d=\"M120-120v-720h720v720H120Zm60-500h600v-160H180v160Zm220 220h160v-160H400v160Zm0 220h160v-160H400v160ZM180-400h160v-160H180v160Zm440 0h160v-160H620v160ZM180-180h160v-160H180v160Zm440 0h160v-160H620v160Z\"/>\n",
              "  </svg>\n",
              "    </button>\n",
              "\n",
              "  <style>\n",
              "    .colab-df-container {\n",
              "      display:flex;\n",
              "      gap: 12px;\n",
              "    }\n",
              "\n",
              "    .colab-df-convert {\n",
              "      background-color: #E8F0FE;\n",
              "      border: none;\n",
              "      border-radius: 50%;\n",
              "      cursor: pointer;\n",
              "      display: none;\n",
              "      fill: #1967D2;\n",
              "      height: 32px;\n",
              "      padding: 0 0 0 0;\n",
              "      width: 32px;\n",
              "    }\n",
              "\n",
              "    .colab-df-convert:hover {\n",
              "      background-color: #E2EBFA;\n",
              "      box-shadow: 0px 1px 2px rgba(60, 64, 67, 0.3), 0px 1px 3px 1px rgba(60, 64, 67, 0.15);\n",
              "      fill: #174EA6;\n",
              "    }\n",
              "\n",
              "    .colab-df-buttons div {\n",
              "      margin-bottom: 4px;\n",
              "    }\n",
              "\n",
              "    [theme=dark] .colab-df-convert {\n",
              "      background-color: #3B4455;\n",
              "      fill: #D2E3FC;\n",
              "    }\n",
              "\n",
              "    [theme=dark] .colab-df-convert:hover {\n",
              "      background-color: #434B5C;\n",
              "      box-shadow: 0px 1px 3px 1px rgba(0, 0, 0, 0.15);\n",
              "      filter: drop-shadow(0px 1px 2px rgba(0, 0, 0, 0.3));\n",
              "      fill: #FFFFFF;\n",
              "    }\n",
              "  </style>\n",
              "\n",
              "    <script>\n",
              "      const buttonEl =\n",
              "        document.querySelector('#df-e91afe4b-b4ef-408b-9582-a4d060918480 button.colab-df-convert');\n",
              "      buttonEl.style.display =\n",
              "        google.colab.kernel.accessAllowed ? 'block' : 'none';\n",
              "\n",
              "      async function convertToInteractive(key) {\n",
              "        const element = document.querySelector('#df-e91afe4b-b4ef-408b-9582-a4d060918480');\n",
              "        const dataTable =\n",
              "          await google.colab.kernel.invokeFunction('convertToInteractive',\n",
              "                                                    [key], {});\n",
              "        if (!dataTable) return;\n",
              "\n",
              "        const docLinkHtml = 'Like what you see? Visit the ' +\n",
              "          '<a target=\"_blank\" href=https://colab.research.google.com/notebooks/data_table.ipynb>data table notebook</a>'\n",
              "          + ' to learn more about interactive tables.';\n",
              "        element.innerHTML = '';\n",
              "        dataTable['output_type'] = 'display_data';\n",
              "        await google.colab.output.renderOutput(dataTable, element);\n",
              "        const docLink = document.createElement('div');\n",
              "        docLink.innerHTML = docLinkHtml;\n",
              "        element.appendChild(docLink);\n",
              "      }\n",
              "    </script>\n",
              "  </div>\n",
              "\n",
              "\n",
              "<div id=\"df-5cf85f27-0516-48cd-9983-6c67cfa8e3ba\">\n",
              "  <button class=\"colab-df-quickchart\" onclick=\"quickchart('df-5cf85f27-0516-48cd-9983-6c67cfa8e3ba')\"\n",
              "            title=\"Suggest charts\"\n",
              "            style=\"display:none;\">\n",
              "\n",
              "<svg xmlns=\"http://www.w3.org/2000/svg\" height=\"24px\"viewBox=\"0 0 24 24\"\n",
              "     width=\"24px\">\n",
              "    <g>\n",
              "        <path d=\"M19 3H5c-1.1 0-2 .9-2 2v14c0 1.1.9 2 2 2h14c1.1 0 2-.9 2-2V5c0-1.1-.9-2-2-2zM9 17H7v-7h2v7zm4 0h-2V7h2v10zm4 0h-2v-4h2v4z\"/>\n",
              "    </g>\n",
              "</svg>\n",
              "  </button>\n",
              "\n",
              "<style>\n",
              "  .colab-df-quickchart {\n",
              "      --bg-color: #E8F0FE;\n",
              "      --fill-color: #1967D2;\n",
              "      --hover-bg-color: #E2EBFA;\n",
              "      --hover-fill-color: #174EA6;\n",
              "      --disabled-fill-color: #AAA;\n",
              "      --disabled-bg-color: #DDD;\n",
              "  }\n",
              "\n",
              "  [theme=dark] .colab-df-quickchart {\n",
              "      --bg-color: #3B4455;\n",
              "      --fill-color: #D2E3FC;\n",
              "      --hover-bg-color: #434B5C;\n",
              "      --hover-fill-color: #FFFFFF;\n",
              "      --disabled-bg-color: #3B4455;\n",
              "      --disabled-fill-color: #666;\n",
              "  }\n",
              "\n",
              "  .colab-df-quickchart {\n",
              "    background-color: var(--bg-color);\n",
              "    border: none;\n",
              "    border-radius: 50%;\n",
              "    cursor: pointer;\n",
              "    display: none;\n",
              "    fill: var(--fill-color);\n",
              "    height: 32px;\n",
              "    padding: 0;\n",
              "    width: 32px;\n",
              "  }\n",
              "\n",
              "  .colab-df-quickchart:hover {\n",
              "    background-color: var(--hover-bg-color);\n",
              "    box-shadow: 0 1px 2px rgba(60, 64, 67, 0.3), 0 1px 3px 1px rgba(60, 64, 67, 0.15);\n",
              "    fill: var(--button-hover-fill-color);\n",
              "  }\n",
              "\n",
              "  .colab-df-quickchart-complete:disabled,\n",
              "  .colab-df-quickchart-complete:disabled:hover {\n",
              "    background-color: var(--disabled-bg-color);\n",
              "    fill: var(--disabled-fill-color);\n",
              "    box-shadow: none;\n",
              "  }\n",
              "\n",
              "  .colab-df-spinner {\n",
              "    border: 2px solid var(--fill-color);\n",
              "    border-color: transparent;\n",
              "    border-bottom-color: var(--fill-color);\n",
              "    animation:\n",
              "      spin 1s steps(1) infinite;\n",
              "  }\n",
              "\n",
              "  @keyframes spin {\n",
              "    0% {\n",
              "      border-color: transparent;\n",
              "      border-bottom-color: var(--fill-color);\n",
              "      border-left-color: var(--fill-color);\n",
              "    }\n",
              "    20% {\n",
              "      border-color: transparent;\n",
              "      border-left-color: var(--fill-color);\n",
              "      border-top-color: var(--fill-color);\n",
              "    }\n",
              "    30% {\n",
              "      border-color: transparent;\n",
              "      border-left-color: var(--fill-color);\n",
              "      border-top-color: var(--fill-color);\n",
              "      border-right-color: var(--fill-color);\n",
              "    }\n",
              "    40% {\n",
              "      border-color: transparent;\n",
              "      border-right-color: var(--fill-color);\n",
              "      border-top-color: var(--fill-color);\n",
              "    }\n",
              "    60% {\n",
              "      border-color: transparent;\n",
              "      border-right-color: var(--fill-color);\n",
              "    }\n",
              "    80% {\n",
              "      border-color: transparent;\n",
              "      border-right-color: var(--fill-color);\n",
              "      border-bottom-color: var(--fill-color);\n",
              "    }\n",
              "    90% {\n",
              "      border-color: transparent;\n",
              "      border-bottom-color: var(--fill-color);\n",
              "    }\n",
              "  }\n",
              "</style>\n",
              "\n",
              "  <script>\n",
              "    async function quickchart(key) {\n",
              "      const quickchartButtonEl =\n",
              "        document.querySelector('#' + key + ' button');\n",
              "      quickchartButtonEl.disabled = true;  // To prevent multiple clicks.\n",
              "      quickchartButtonEl.classList.add('colab-df-spinner');\n",
              "      try {\n",
              "        const charts = await google.colab.kernel.invokeFunction(\n",
              "            'suggestCharts', [key], {});\n",
              "      } catch (error) {\n",
              "        console.error('Error during call to suggestCharts:', error);\n",
              "      }\n",
              "      quickchartButtonEl.classList.remove('colab-df-spinner');\n",
              "      quickchartButtonEl.classList.add('colab-df-quickchart-complete');\n",
              "    }\n",
              "    (() => {\n",
              "      let quickchartButtonEl =\n",
              "        document.querySelector('#df-5cf85f27-0516-48cd-9983-6c67cfa8e3ba button');\n",
              "      quickchartButtonEl.style.display =\n",
              "        google.colab.kernel.accessAllowed ? 'block' : 'none';\n",
              "    })();\n",
              "  </script>\n",
              "</div>\n",
              "\n",
              "    </div>\n",
              "  </div>\n"
            ],
            "application/vnd.google.colaboratory.intrinsic+json": {
              "type": "dataframe",
              "variable_name": "df",
              "summary": "{\n  \"name\": \"df\",\n  \"rows\": 1259,\n  \"fields\": [\n    {\n      \"column\": \"Area\",\n      \"properties\": {\n        \"dtype\": \"number\",\n        \"std\": 1568.055040319187,\n        \"min\": 28.0,\n        \"max\": 24300.0,\n        \"num_unique_values\": 315,\n        \"samples\": [\n          2552.0,\n          1600.0,\n          1250.0\n        ],\n        \"semantic_type\": \"\",\n        \"description\": \"\"\n      }\n    },\n    {\n      \"column\": \"BHK\",\n      \"properties\": {\n        \"dtype\": \"number\",\n        \"std\": 0,\n        \"min\": 1,\n        \"max\": 10,\n        \"num_unique_values\": 8,\n        \"samples\": [\n          2,\n          5,\n          3\n        ],\n        \"semantic_type\": \"\",\n        \"description\": \"\"\n      }\n    },\n    {\n      \"column\": \"Bathroom\",\n      \"properties\": {\n        \"dtype\": \"number\",\n        \"std\": 1.0422201707565528,\n        \"min\": 1.0,\n        \"max\": 7.0,\n        \"num_unique_values\": 7,\n        \"samples\": [\n          2.0,\n          3.0,\n          6.0\n        ],\n        \"semantic_type\": \"\",\n        \"description\": \"\"\n      }\n    },\n    {\n      \"column\": \"Furnishing\",\n      \"properties\": {\n        \"dtype\": \"category\",\n        \"num_unique_values\": 3,\n        \"samples\": [\n          \"Semi-Furnished\",\n          \"Furnished\",\n          \"Unfurnished\"\n        ],\n        \"semantic_type\": \"\",\n        \"description\": \"\"\n      }\n    },\n    {\n      \"column\": \"Locality\",\n      \"properties\": {\n        \"dtype\": \"category\",\n        \"num_unique_values\": 365,\n        \"samples\": [\n          \"Sunder Apartments, Sunder Vihar, Paschim Vihar\",\n          \"Kunj Vihar Apartment, Dwarka Sector 12\",\n          \"Rohini Sector 18 carpet area 40 sqm status Ready to Move floor 2 out of 4 floors transaction Resale furnishing Furnished facing East overlooking Main Road car parking 2 Open bathroom 1 balcony 1 ownership Freehold East Facing Property It an LIG three side corner flat in second floor, having full scope of expansion. interior decorated with 2 textured wall , kajaria tiles , fully modular kitchen, branded bathroom and toilet fittings, LED panel, ac in one bedroom, false ceiling in entire flat.south facing unobstructed view balcony. It was all renovated only 2.5 yrs back so every thing is in brand new condition. read more Contact Owner View Phone No. Share Feedback Owner Pramod\"\n        ],\n        \"semantic_type\": \"\",\n        \"description\": \"\"\n      }\n    },\n    {\n      \"column\": \"Parking\",\n      \"properties\": {\n        \"dtype\": \"number\",\n        \"std\": 6.279211536469023,\n        \"min\": 1.0,\n        \"max\": 114.0,\n        \"num_unique_values\": 9,\n        \"samples\": [\n          10.0,\n          5.0,\n          3.0\n        ],\n        \"semantic_type\": \"\",\n        \"description\": \"\"\n      }\n    },\n    {\n      \"column\": \"Price\",\n      \"properties\": {\n        \"dtype\": \"number\",\n        \"std\": 25601154,\n        \"min\": 1000000,\n        \"max\": 240000000,\n        \"num_unique_values\": 284,\n        \"samples\": [\n          7700000,\n          8550000,\n          5600000\n        ],\n        \"semantic_type\": \"\",\n        \"description\": \"\"\n      }\n    },\n    {\n      \"column\": \"Status\",\n      \"properties\": {\n        \"dtype\": \"category\",\n        \"num_unique_values\": 2,\n        \"samples\": [\n          \"Almost_ready\",\n          \"Ready_to_move\"\n        ],\n        \"semantic_type\": \"\",\n        \"description\": \"\"\n      }\n    },\n    {\n      \"column\": \"Transaction\",\n      \"properties\": {\n        \"dtype\": \"category\",\n        \"num_unique_values\": 2,\n        \"samples\": [\n          \"Resale\",\n          \"New_Property\"\n        ],\n        \"semantic_type\": \"\",\n        \"description\": \"\"\n      }\n    },\n    {\n      \"column\": \"Type\",\n      \"properties\": {\n        \"dtype\": \"category\",\n        \"num_unique_values\": 2,\n        \"samples\": [\n          \"Apartment\",\n          \"Builder_Floor\"\n        ],\n        \"semantic_type\": \"\",\n        \"description\": \"\"\n      }\n    },\n    {\n      \"column\": \"Per_Sqft\",\n      \"properties\": {\n        \"dtype\": \"number\",\n        \"std\": 21134.738568292476,\n        \"min\": 1259.0,\n        \"max\": 183333.0,\n        \"num_unique_values\": 251,\n        \"samples\": [\n          15384.0,\n          22000.0\n        ],\n        \"semantic_type\": \"\",\n        \"description\": \"\"\n      }\n    }\n  ]\n}"
            }
          },
          "metadata": {},
          "execution_count": 21
        }
      ]
    },
    {
      "cell_type": "code",
      "source": [
        "df.columns.tolist()"
      ],
      "metadata": {
        "execution": {
          "iopub.status.busy": "2024-05-27T12:01:02.15712Z",
          "iopub.execute_input": "2024-05-27T12:01:02.157471Z",
          "iopub.status.idle": "2024-05-27T12:01:02.164608Z",
          "shell.execute_reply.started": "2024-05-27T12:01:02.157442Z",
          "shell.execute_reply": "2024-05-27T12:01:02.163546Z"
        },
        "editable": false,
        "trusted": true,
        "colab": {
          "base_uri": "https://localhost:8080/"
        },
        "id": "asC_a1URHkSe",
        "outputId": "60d20868-8133-4b38-a9c0-19aa6fad8a55"
      },
      "execution_count": null,
      "outputs": [
        {
          "output_type": "execute_result",
          "data": {
            "text/plain": [
              "['Area',\n",
              " 'BHK',\n",
              " 'Bathroom',\n",
              " 'Furnishing',\n",
              " 'Locality',\n",
              " 'Parking',\n",
              " 'Price',\n",
              " 'Status',\n",
              " 'Transaction',\n",
              " 'Type',\n",
              " 'Per_Sqft']"
            ]
          },
          "metadata": {},
          "execution_count": 22
        }
      ]
    },
    {
      "cell_type": "code",
      "source": [
        "df.info()"
      ],
      "metadata": {
        "execution": {
          "iopub.status.busy": "2024-05-27T12:01:02.165965Z",
          "iopub.execute_input": "2024-05-27T12:01:02.166397Z",
          "iopub.status.idle": "2024-05-27T12:01:02.182529Z",
          "shell.execute_reply.started": "2024-05-27T12:01:02.16637Z",
          "shell.execute_reply": "2024-05-27T12:01:02.181454Z"
        },
        "editable": false,
        "trusted": true,
        "colab": {
          "base_uri": "https://localhost:8080/"
        },
        "id": "4WRy_pREHkSe",
        "outputId": "de0a577a-67e8-4306-8434-030021061ee4"
      },
      "execution_count": null,
      "outputs": [
        {
          "output_type": "stream",
          "name": "stdout",
          "text": [
            "<class 'pandas.core.frame.DataFrame'>\n",
            "RangeIndex: 1259 entries, 0 to 1258\n",
            "Data columns (total 11 columns):\n",
            " #   Column       Non-Null Count  Dtype  \n",
            "---  ------       --------------  -----  \n",
            " 0   Area         1259 non-null   float64\n",
            " 1   BHK          1259 non-null   int64  \n",
            " 2   Bathroom     1257 non-null   float64\n",
            " 3   Furnishing   1254 non-null   object \n",
            " 4   Locality     1259 non-null   object \n",
            " 5   Parking      1226 non-null   float64\n",
            " 6   Price        1259 non-null   int64  \n",
            " 7   Status       1259 non-null   object \n",
            " 8   Transaction  1259 non-null   object \n",
            " 9   Type         1254 non-null   object \n",
            " 10  Per_Sqft     1018 non-null   float64\n",
            "dtypes: float64(4), int64(2), object(5)\n",
            "memory usage: 108.3+ KB\n"
          ]
        }
      ]
    },
    {
      "cell_type": "code",
      "source": [
        "df.describe()"
      ],
      "metadata": {
        "execution": {
          "iopub.status.busy": "2024-05-27T12:01:02.184044Z",
          "iopub.execute_input": "2024-05-27T12:01:02.184468Z",
          "iopub.status.idle": "2024-05-27T12:01:02.217364Z",
          "shell.execute_reply.started": "2024-05-27T12:01:02.18443Z",
          "shell.execute_reply": "2024-05-27T12:01:02.216242Z"
        },
        "editable": false,
        "trusted": true,
        "colab": {
          "base_uri": "https://localhost:8080/",
          "height": 300
        },
        "id": "Fk5oSqE7HkSf",
        "outputId": "3d73de3d-006e-4cb9-92d4-a40662a37edf"
      },
      "execution_count": null,
      "outputs": [
        {
          "output_type": "execute_result",
          "data": {
            "text/plain": [
              "               Area          BHK     Bathroom      Parking         Price  \\\n",
              "count   1259.000000  1259.000000  1257.000000  1226.000000  1.259000e+03   \n",
              "mean    1466.452724     2.796664     2.556086     1.935563  2.130670e+07   \n",
              "std     1568.055040     0.954425     1.042220     6.279212  2.560115e+07   \n",
              "min       28.000000     1.000000     1.000000     1.000000  1.000000e+06   \n",
              "25%      800.000000     2.000000     2.000000     1.000000  5.700000e+06   \n",
              "50%     1200.000000     3.000000     2.000000     1.000000  1.420000e+07   \n",
              "75%     1700.000000     3.000000     3.000000     2.000000  2.550000e+07   \n",
              "max    24300.000000    10.000000     7.000000   114.000000  2.400000e+08   \n",
              "\n",
              "            Per_Sqft  \n",
              "count    1018.000000  \n",
              "mean    15690.136542  \n",
              "std     21134.738568  \n",
              "min      1259.000000  \n",
              "25%      6364.000000  \n",
              "50%     11291.500000  \n",
              "75%     18000.000000  \n",
              "max    183333.000000  "
            ],
            "text/html": [
              "\n",
              "  <div id=\"df-46a41e96-4ebf-4272-abe4-c6c381882a11\" class=\"colab-df-container\">\n",
              "    <div>\n",
              "<style scoped>\n",
              "    .dataframe tbody tr th:only-of-type {\n",
              "        vertical-align: middle;\n",
              "    }\n",
              "\n",
              "    .dataframe tbody tr th {\n",
              "        vertical-align: top;\n",
              "    }\n",
              "\n",
              "    .dataframe thead th {\n",
              "        text-align: right;\n",
              "    }\n",
              "</style>\n",
              "<table border=\"1\" class=\"dataframe\">\n",
              "  <thead>\n",
              "    <tr style=\"text-align: right;\">\n",
              "      <th></th>\n",
              "      <th>Area</th>\n",
              "      <th>BHK</th>\n",
              "      <th>Bathroom</th>\n",
              "      <th>Parking</th>\n",
              "      <th>Price</th>\n",
              "      <th>Per_Sqft</th>\n",
              "    </tr>\n",
              "  </thead>\n",
              "  <tbody>\n",
              "    <tr>\n",
              "      <th>count</th>\n",
              "      <td>1259.000000</td>\n",
              "      <td>1259.000000</td>\n",
              "      <td>1257.000000</td>\n",
              "      <td>1226.000000</td>\n",
              "      <td>1.259000e+03</td>\n",
              "      <td>1018.000000</td>\n",
              "    </tr>\n",
              "    <tr>\n",
              "      <th>mean</th>\n",
              "      <td>1466.452724</td>\n",
              "      <td>2.796664</td>\n",
              "      <td>2.556086</td>\n",
              "      <td>1.935563</td>\n",
              "      <td>2.130670e+07</td>\n",
              "      <td>15690.136542</td>\n",
              "    </tr>\n",
              "    <tr>\n",
              "      <th>std</th>\n",
              "      <td>1568.055040</td>\n",
              "      <td>0.954425</td>\n",
              "      <td>1.042220</td>\n",
              "      <td>6.279212</td>\n",
              "      <td>2.560115e+07</td>\n",
              "      <td>21134.738568</td>\n",
              "    </tr>\n",
              "    <tr>\n",
              "      <th>min</th>\n",
              "      <td>28.000000</td>\n",
              "      <td>1.000000</td>\n",
              "      <td>1.000000</td>\n",
              "      <td>1.000000</td>\n",
              "      <td>1.000000e+06</td>\n",
              "      <td>1259.000000</td>\n",
              "    </tr>\n",
              "    <tr>\n",
              "      <th>25%</th>\n",
              "      <td>800.000000</td>\n",
              "      <td>2.000000</td>\n",
              "      <td>2.000000</td>\n",
              "      <td>1.000000</td>\n",
              "      <td>5.700000e+06</td>\n",
              "      <td>6364.000000</td>\n",
              "    </tr>\n",
              "    <tr>\n",
              "      <th>50%</th>\n",
              "      <td>1200.000000</td>\n",
              "      <td>3.000000</td>\n",
              "      <td>2.000000</td>\n",
              "      <td>1.000000</td>\n",
              "      <td>1.420000e+07</td>\n",
              "      <td>11291.500000</td>\n",
              "    </tr>\n",
              "    <tr>\n",
              "      <th>75%</th>\n",
              "      <td>1700.000000</td>\n",
              "      <td>3.000000</td>\n",
              "      <td>3.000000</td>\n",
              "      <td>2.000000</td>\n",
              "      <td>2.550000e+07</td>\n",
              "      <td>18000.000000</td>\n",
              "    </tr>\n",
              "    <tr>\n",
              "      <th>max</th>\n",
              "      <td>24300.000000</td>\n",
              "      <td>10.000000</td>\n",
              "      <td>7.000000</td>\n",
              "      <td>114.000000</td>\n",
              "      <td>2.400000e+08</td>\n",
              "      <td>183333.000000</td>\n",
              "    </tr>\n",
              "  </tbody>\n",
              "</table>\n",
              "</div>\n",
              "    <div class=\"colab-df-buttons\">\n",
              "\n",
              "  <div class=\"colab-df-container\">\n",
              "    <button class=\"colab-df-convert\" onclick=\"convertToInteractive('df-46a41e96-4ebf-4272-abe4-c6c381882a11')\"\n",
              "            title=\"Convert this dataframe to an interactive table.\"\n",
              "            style=\"display:none;\">\n",
              "\n",
              "  <svg xmlns=\"http://www.w3.org/2000/svg\" height=\"24px\" viewBox=\"0 -960 960 960\">\n",
              "    <path d=\"M120-120v-720h720v720H120Zm60-500h600v-160H180v160Zm220 220h160v-160H400v160Zm0 220h160v-160H400v160ZM180-400h160v-160H180v160Zm440 0h160v-160H620v160ZM180-180h160v-160H180v160Zm440 0h160v-160H620v160Z\"/>\n",
              "  </svg>\n",
              "    </button>\n",
              "\n",
              "  <style>\n",
              "    .colab-df-container {\n",
              "      display:flex;\n",
              "      gap: 12px;\n",
              "    }\n",
              "\n",
              "    .colab-df-convert {\n",
              "      background-color: #E8F0FE;\n",
              "      border: none;\n",
              "      border-radius: 50%;\n",
              "      cursor: pointer;\n",
              "      display: none;\n",
              "      fill: #1967D2;\n",
              "      height: 32px;\n",
              "      padding: 0 0 0 0;\n",
              "      width: 32px;\n",
              "    }\n",
              "\n",
              "    .colab-df-convert:hover {\n",
              "      background-color: #E2EBFA;\n",
              "      box-shadow: 0px 1px 2px rgba(60, 64, 67, 0.3), 0px 1px 3px 1px rgba(60, 64, 67, 0.15);\n",
              "      fill: #174EA6;\n",
              "    }\n",
              "\n",
              "    .colab-df-buttons div {\n",
              "      margin-bottom: 4px;\n",
              "    }\n",
              "\n",
              "    [theme=dark] .colab-df-convert {\n",
              "      background-color: #3B4455;\n",
              "      fill: #D2E3FC;\n",
              "    }\n",
              "\n",
              "    [theme=dark] .colab-df-convert:hover {\n",
              "      background-color: #434B5C;\n",
              "      box-shadow: 0px 1px 3px 1px rgba(0, 0, 0, 0.15);\n",
              "      filter: drop-shadow(0px 1px 2px rgba(0, 0, 0, 0.3));\n",
              "      fill: #FFFFFF;\n",
              "    }\n",
              "  </style>\n",
              "\n",
              "    <script>\n",
              "      const buttonEl =\n",
              "        document.querySelector('#df-46a41e96-4ebf-4272-abe4-c6c381882a11 button.colab-df-convert');\n",
              "      buttonEl.style.display =\n",
              "        google.colab.kernel.accessAllowed ? 'block' : 'none';\n",
              "\n",
              "      async function convertToInteractive(key) {\n",
              "        const element = document.querySelector('#df-46a41e96-4ebf-4272-abe4-c6c381882a11');\n",
              "        const dataTable =\n",
              "          await google.colab.kernel.invokeFunction('convertToInteractive',\n",
              "                                                    [key], {});\n",
              "        if (!dataTable) return;\n",
              "\n",
              "        const docLinkHtml = 'Like what you see? Visit the ' +\n",
              "          '<a target=\"_blank\" href=https://colab.research.google.com/notebooks/data_table.ipynb>data table notebook</a>'\n",
              "          + ' to learn more about interactive tables.';\n",
              "        element.innerHTML = '';\n",
              "        dataTable['output_type'] = 'display_data';\n",
              "        await google.colab.output.renderOutput(dataTable, element);\n",
              "        const docLink = document.createElement('div');\n",
              "        docLink.innerHTML = docLinkHtml;\n",
              "        element.appendChild(docLink);\n",
              "      }\n",
              "    </script>\n",
              "  </div>\n",
              "\n",
              "\n",
              "<div id=\"df-9651fe11-ac67-48b0-b815-c69577df93b1\">\n",
              "  <button class=\"colab-df-quickchart\" onclick=\"quickchart('df-9651fe11-ac67-48b0-b815-c69577df93b1')\"\n",
              "            title=\"Suggest charts\"\n",
              "            style=\"display:none;\">\n",
              "\n",
              "<svg xmlns=\"http://www.w3.org/2000/svg\" height=\"24px\"viewBox=\"0 0 24 24\"\n",
              "     width=\"24px\">\n",
              "    <g>\n",
              "        <path d=\"M19 3H5c-1.1 0-2 .9-2 2v14c0 1.1.9 2 2 2h14c1.1 0 2-.9 2-2V5c0-1.1-.9-2-2-2zM9 17H7v-7h2v7zm4 0h-2V7h2v10zm4 0h-2v-4h2v4z\"/>\n",
              "    </g>\n",
              "</svg>\n",
              "  </button>\n",
              "\n",
              "<style>\n",
              "  .colab-df-quickchart {\n",
              "      --bg-color: #E8F0FE;\n",
              "      --fill-color: #1967D2;\n",
              "      --hover-bg-color: #E2EBFA;\n",
              "      --hover-fill-color: #174EA6;\n",
              "      --disabled-fill-color: #AAA;\n",
              "      --disabled-bg-color: #DDD;\n",
              "  }\n",
              "\n",
              "  [theme=dark] .colab-df-quickchart {\n",
              "      --bg-color: #3B4455;\n",
              "      --fill-color: #D2E3FC;\n",
              "      --hover-bg-color: #434B5C;\n",
              "      --hover-fill-color: #FFFFFF;\n",
              "      --disabled-bg-color: #3B4455;\n",
              "      --disabled-fill-color: #666;\n",
              "  }\n",
              "\n",
              "  .colab-df-quickchart {\n",
              "    background-color: var(--bg-color);\n",
              "    border: none;\n",
              "    border-radius: 50%;\n",
              "    cursor: pointer;\n",
              "    display: none;\n",
              "    fill: var(--fill-color);\n",
              "    height: 32px;\n",
              "    padding: 0;\n",
              "    width: 32px;\n",
              "  }\n",
              "\n",
              "  .colab-df-quickchart:hover {\n",
              "    background-color: var(--hover-bg-color);\n",
              "    box-shadow: 0 1px 2px rgba(60, 64, 67, 0.3), 0 1px 3px 1px rgba(60, 64, 67, 0.15);\n",
              "    fill: var(--button-hover-fill-color);\n",
              "  }\n",
              "\n",
              "  .colab-df-quickchart-complete:disabled,\n",
              "  .colab-df-quickchart-complete:disabled:hover {\n",
              "    background-color: var(--disabled-bg-color);\n",
              "    fill: var(--disabled-fill-color);\n",
              "    box-shadow: none;\n",
              "  }\n",
              "\n",
              "  .colab-df-spinner {\n",
              "    border: 2px solid var(--fill-color);\n",
              "    border-color: transparent;\n",
              "    border-bottom-color: var(--fill-color);\n",
              "    animation:\n",
              "      spin 1s steps(1) infinite;\n",
              "  }\n",
              "\n",
              "  @keyframes spin {\n",
              "    0% {\n",
              "      border-color: transparent;\n",
              "      border-bottom-color: var(--fill-color);\n",
              "      border-left-color: var(--fill-color);\n",
              "    }\n",
              "    20% {\n",
              "      border-color: transparent;\n",
              "      border-left-color: var(--fill-color);\n",
              "      border-top-color: var(--fill-color);\n",
              "    }\n",
              "    30% {\n",
              "      border-color: transparent;\n",
              "      border-left-color: var(--fill-color);\n",
              "      border-top-color: var(--fill-color);\n",
              "      border-right-color: var(--fill-color);\n",
              "    }\n",
              "    40% {\n",
              "      border-color: transparent;\n",
              "      border-right-color: var(--fill-color);\n",
              "      border-top-color: var(--fill-color);\n",
              "    }\n",
              "    60% {\n",
              "      border-color: transparent;\n",
              "      border-right-color: var(--fill-color);\n",
              "    }\n",
              "    80% {\n",
              "      border-color: transparent;\n",
              "      border-right-color: var(--fill-color);\n",
              "      border-bottom-color: var(--fill-color);\n",
              "    }\n",
              "    90% {\n",
              "      border-color: transparent;\n",
              "      border-bottom-color: var(--fill-color);\n",
              "    }\n",
              "  }\n",
              "</style>\n",
              "\n",
              "  <script>\n",
              "    async function quickchart(key) {\n",
              "      const quickchartButtonEl =\n",
              "        document.querySelector('#' + key + ' button');\n",
              "      quickchartButtonEl.disabled = true;  // To prevent multiple clicks.\n",
              "      quickchartButtonEl.classList.add('colab-df-spinner');\n",
              "      try {\n",
              "        const charts = await google.colab.kernel.invokeFunction(\n",
              "            'suggestCharts', [key], {});\n",
              "      } catch (error) {\n",
              "        console.error('Error during call to suggestCharts:', error);\n",
              "      }\n",
              "      quickchartButtonEl.classList.remove('colab-df-spinner');\n",
              "      quickchartButtonEl.classList.add('colab-df-quickchart-complete');\n",
              "    }\n",
              "    (() => {\n",
              "      let quickchartButtonEl =\n",
              "        document.querySelector('#df-9651fe11-ac67-48b0-b815-c69577df93b1 button');\n",
              "      quickchartButtonEl.style.display =\n",
              "        google.colab.kernel.accessAllowed ? 'block' : 'none';\n",
              "    })();\n",
              "  </script>\n",
              "</div>\n",
              "\n",
              "    </div>\n",
              "  </div>\n"
            ],
            "application/vnd.google.colaboratory.intrinsic+json": {
              "type": "dataframe",
              "summary": "{\n  \"name\": \"df\",\n  \"rows\": 8,\n  \"fields\": [\n    {\n      \"column\": \"Area\",\n      \"properties\": {\n        \"dtype\": \"number\",\n        \"std\": 8203.397921249958,\n        \"min\": 28.0,\n        \"max\": 24300.0,\n        \"num_unique_values\": 8,\n        \"samples\": [\n          1466.4527241461478,\n          1200.0,\n          1259.0\n        ],\n        \"semantic_type\": \"\",\n        \"description\": \"\"\n      }\n    },\n    {\n      \"column\": \"BHK\",\n      \"properties\": {\n        \"dtype\": \"number\",\n        \"std\": 443.98391227586325,\n        \"min\": 0.9544248840035229,\n        \"max\": 1259.0,\n        \"num_unique_values\": 7,\n        \"samples\": [\n          1259.0,\n          2.796664019062748,\n          3.0\n        ],\n        \"semantic_type\": \"\",\n        \"description\": \"\"\n      }\n    },\n    {\n      \"column\": \"Bathroom\",\n      \"properties\": {\n        \"dtype\": \"number\",\n        \"std\": 443.48131543597725,\n        \"min\": 1.0,\n        \"max\": 1257.0,\n        \"num_unique_values\": 7,\n        \"samples\": [\n          1257.0,\n          2.556085918854415,\n          3.0\n        ],\n        \"semantic_type\": \"\",\n        \"description\": \"\"\n      }\n    },\n    {\n      \"column\": \"Parking\",\n      \"properties\": {\n        \"dtype\": \"number\",\n        \"std\": 428.8228733094479,\n        \"min\": 1.0,\n        \"max\": 1226.0,\n        \"num_unique_values\": 6,\n        \"samples\": [\n          1226.0,\n          1.935562805872757,\n          114.0\n        ],\n        \"semantic_type\": \"\",\n        \"description\": \"\"\n      }\n    },\n    {\n      \"column\": \"Price\",\n      \"properties\": {\n        \"dtype\": \"number\",\n        \"std\": 80806562.48334259,\n        \"min\": 1259.0,\n        \"max\": 240000000.0,\n        \"num_unique_values\": 8,\n        \"samples\": [\n          21306703.733121525,\n          14200000.0,\n          1259.0\n        ],\n        \"semantic_type\": \"\",\n        \"description\": \"\"\n      }\n    },\n    {\n      \"column\": \"Per_Sqft\",\n      \"properties\": {\n        \"dtype\": \"number\",\n        \"std\": 61495.802534722745,\n        \"min\": 1018.0,\n        \"max\": 183333.0,\n        \"num_unique_values\": 8,\n        \"samples\": [\n          15690.136542239685,\n          11291.5,\n          1018.0\n        ],\n        \"semantic_type\": \"\",\n        \"description\": \"\"\n      }\n    }\n  ]\n}"
            }
          },
          "metadata": {},
          "execution_count": 24
        }
      ]
    },
    {
      "cell_type": "code",
      "source": [
        "df.isnull().sum()"
      ],
      "metadata": {
        "execution": {
          "iopub.status.busy": "2024-05-27T12:01:02.218865Z",
          "iopub.execute_input": "2024-05-27T12:01:02.219332Z",
          "iopub.status.idle": "2024-05-27T12:01:02.229059Z",
          "shell.execute_reply.started": "2024-05-27T12:01:02.219294Z",
          "shell.execute_reply": "2024-05-27T12:01:02.227977Z"
        },
        "editable": false,
        "trusted": true,
        "colab": {
          "base_uri": "https://localhost:8080/"
        },
        "id": "h5IjN4LsHkSf",
        "outputId": "1e30d261-ea70-4c63-d884-e5d107edf86c"
      },
      "execution_count": null,
      "outputs": [
        {
          "output_type": "execute_result",
          "data": {
            "text/plain": [
              "Area             0\n",
              "BHK              0\n",
              "Bathroom         2\n",
              "Furnishing       5\n",
              "Locality         0\n",
              "Parking         33\n",
              "Price            0\n",
              "Status           0\n",
              "Transaction      0\n",
              "Type             5\n",
              "Per_Sqft       241\n",
              "dtype: int64"
            ]
          },
          "metadata": {},
          "execution_count": 25
        }
      ]
    },
    {
      "cell_type": "code",
      "source": [
        "df.dtypes"
      ],
      "metadata": {
        "execution": {
          "iopub.status.busy": "2024-05-27T12:01:02.23033Z",
          "iopub.execute_input": "2024-05-27T12:01:02.230652Z",
          "iopub.status.idle": "2024-05-27T12:01:02.242772Z",
          "shell.execute_reply.started": "2024-05-27T12:01:02.230625Z",
          "shell.execute_reply": "2024-05-27T12:01:02.241612Z"
        },
        "editable": false,
        "trusted": true,
        "colab": {
          "base_uri": "https://localhost:8080/"
        },
        "id": "81AGd5IbHkSg",
        "outputId": "7a969a8d-629c-4068-cbbd-cb3a38be6b98"
      },
      "execution_count": null,
      "outputs": [
        {
          "output_type": "execute_result",
          "data": {
            "text/plain": [
              "Area           float64\n",
              "BHK              int64\n",
              "Bathroom       float64\n",
              "Furnishing      object\n",
              "Locality        object\n",
              "Parking        float64\n",
              "Price            int64\n",
              "Status          object\n",
              "Transaction     object\n",
              "Type            object\n",
              "Per_Sqft       float64\n",
              "dtype: object"
            ]
          },
          "metadata": {},
          "execution_count": 26
        }
      ]
    },
    {
      "cell_type": "code",
      "source": [
        "numerical_columns = df.select_dtypes(include=['float64', 'int64'])\n",
        "numerical_columns.info()\n"
      ],
      "metadata": {
        "execution": {
          "iopub.status.busy": "2024-05-27T12:01:02.244251Z",
          "iopub.execute_input": "2024-05-27T12:01:02.244663Z",
          "iopub.status.idle": "2024-05-27T12:01:02.258553Z",
          "shell.execute_reply.started": "2024-05-27T12:01:02.244627Z",
          "shell.execute_reply": "2024-05-27T12:01:02.25747Z"
        },
        "editable": false,
        "trusted": true,
        "colab": {
          "base_uri": "https://localhost:8080/"
        },
        "id": "zhm4ihzRHkSg",
        "outputId": "38593608-6e8f-4607-89a1-12e58cfce5a6"
      },
      "execution_count": null,
      "outputs": [
        {
          "output_type": "stream",
          "name": "stdout",
          "text": [
            "<class 'pandas.core.frame.DataFrame'>\n",
            "RangeIndex: 1259 entries, 0 to 1258\n",
            "Data columns (total 6 columns):\n",
            " #   Column    Non-Null Count  Dtype  \n",
            "---  ------    --------------  -----  \n",
            " 0   Area      1259 non-null   float64\n",
            " 1   BHK       1259 non-null   int64  \n",
            " 2   Bathroom  1257 non-null   float64\n",
            " 3   Parking   1226 non-null   float64\n",
            " 4   Price     1259 non-null   int64  \n",
            " 5   Per_Sqft  1018 non-null   float64\n",
            "dtypes: float64(4), int64(2)\n",
            "memory usage: 59.1 KB\n"
          ]
        }
      ]
    },
    {
      "cell_type": "code",
      "source": [
        "df.info()"
      ],
      "metadata": {
        "execution": {
          "iopub.status.busy": "2024-05-27T12:01:02.263373Z",
          "iopub.execute_input": "2024-05-27T12:01:02.264311Z",
          "iopub.status.idle": "2024-05-27T12:01:02.277368Z",
          "shell.execute_reply.started": "2024-05-27T12:01:02.264278Z",
          "shell.execute_reply": "2024-05-27T12:01:02.276114Z"
        },
        "editable": false,
        "trusted": true,
        "colab": {
          "base_uri": "https://localhost:8080/"
        },
        "id": "H6ibG9C5HkSg",
        "outputId": "b3ccf3f2-eb99-4c5c-e0ad-431f90ed7f25"
      },
      "execution_count": null,
      "outputs": [
        {
          "output_type": "stream",
          "name": "stdout",
          "text": [
            "<class 'pandas.core.frame.DataFrame'>\n",
            "RangeIndex: 1259 entries, 0 to 1258\n",
            "Data columns (total 11 columns):\n",
            " #   Column       Non-Null Count  Dtype  \n",
            "---  ------       --------------  -----  \n",
            " 0   Area         1259 non-null   float64\n",
            " 1   BHK          1259 non-null   int64  \n",
            " 2   Bathroom     1257 non-null   float64\n",
            " 3   Furnishing   1254 non-null   object \n",
            " 4   Locality     1259 non-null   object \n",
            " 5   Parking      1226 non-null   float64\n",
            " 6   Price        1259 non-null   int64  \n",
            " 7   Status       1259 non-null   object \n",
            " 8   Transaction  1259 non-null   object \n",
            " 9   Type         1254 non-null   object \n",
            " 10  Per_Sqft     1018 non-null   float64\n",
            "dtypes: float64(4), int64(2), object(5)\n",
            "memory usage: 108.3+ KB\n"
          ]
        }
      ]
    },
    {
      "cell_type": "code",
      "source": [
        "categorical_columns = df.select_dtypes(include=['object'])\n",
        "print(list(categorical_columns.columns))"
      ],
      "metadata": {
        "execution": {
          "iopub.status.busy": "2024-05-27T12:01:02.278695Z",
          "iopub.execute_input": "2024-05-27T12:01:02.279103Z",
          "iopub.status.idle": "2024-05-27T12:01:02.287979Z",
          "shell.execute_reply.started": "2024-05-27T12:01:02.279065Z",
          "shell.execute_reply": "2024-05-27T12:01:02.286919Z"
        },
        "editable": false,
        "trusted": true,
        "colab": {
          "base_uri": "https://localhost:8080/"
        },
        "id": "zHRXerKSHkSh",
        "outputId": "89b8bb9f-29cf-41f9-e672-58190d0d5904"
      },
      "execution_count": null,
      "outputs": [
        {
          "output_type": "stream",
          "name": "stdout",
          "text": [
            "['Furnishing', 'Locality', 'Status', 'Transaction', 'Type']\n"
          ]
        }
      ]
    },
    {
      "cell_type": "code",
      "source": [
        "from IPython.display import display, HTML\n",
        "\n",
        "\n",
        "content = \"\"\"\n",
        "<div style=\"background-color: #90e0ef; padding: 20px; border-radius: 10px;\">\n",
        "    <h1>Data Visualization</h1>\n",
        "</div>\n",
        "\"\"\"\n",
        "\n",
        "# Display the HTML content\n",
        "display(HTML(content))"
      ],
      "metadata": {
        "execution": {
          "iopub.status.busy": "2024-05-27T12:09:09.119904Z",
          "iopub.execute_input": "2024-05-27T12:09:09.120358Z",
          "iopub.status.idle": "2024-05-27T12:09:09.128492Z",
          "shell.execute_reply.started": "2024-05-27T12:09:09.120323Z",
          "shell.execute_reply": "2024-05-27T12:09:09.127274Z"
        },
        "_kg_hide-input": true,
        "editable": false,
        "trusted": true,
        "colab": {
          "base_uri": "https://localhost:8080/",
          "height": 114
        },
        "id": "ZUjq-CdHHkSh",
        "outputId": "5d44640b-24f2-4f45-fb11-729eaf01a7bc"
      },
      "execution_count": null,
      "outputs": [
        {
          "output_type": "display_data",
          "data": {
            "text/plain": [
              "<IPython.core.display.HTML object>"
            ],
            "text/html": [
              "\n",
              "<div style=\"background-color: #90e0ef; padding: 20px; border-radius: 10px;\">\n",
              "    <h1>Data Visualization</h1>\n",
              "</div>\n"
            ]
          },
          "metadata": {}
        }
      ]
    },
    {
      "cell_type": "code",
      "source": [
        "sns.set(style='whitegrid')"
      ],
      "metadata": {
        "execution": {
          "iopub.status.busy": "2024-05-27T12:01:02.289507Z",
          "iopub.execute_input": "2024-05-27T12:01:02.289883Z",
          "iopub.status.idle": "2024-05-27T12:01:02.299207Z",
          "shell.execute_reply.started": "2024-05-27T12:01:02.289852Z",
          "shell.execute_reply": "2024-05-27T12:01:02.2981Z"
        },
        "editable": false,
        "trusted": true,
        "id": "UqEBBK_FHkSh"
      },
      "execution_count": null,
      "outputs": []
    },
    {
      "cell_type": "code",
      "source": [
        "\n",
        "plt.figure(figsize=(10, 6))\n",
        "for col in categorical_columns.columns:\n",
        "    sns.barplot(x=df[col], y=df['Price'], palette='cool')\n",
        "    plt.title(f\"PLot between {col} and Price\")\n",
        "    plt.xlabel(f\"{col}\")\n",
        "    plt.ylabel(\"Price\")\n",
        "    plt.xticks(rotation=45)\n",
        "    plt.show()"
      ],
      "metadata": {
        "execution": {
          "iopub.status.busy": "2024-05-27T12:01:02.300463Z",
          "iopub.execute_input": "2024-05-27T12:01:02.300764Z",
          "iopub.status.idle": "2024-05-27T12:01:32.756137Z",
          "shell.execute_reply.started": "2024-05-27T12:01:02.300737Z",
          "shell.execute_reply": "2024-05-27T12:01:32.755024Z"
        },
        "editable": false,
        "trusted": true,
        "colab": {
          "base_uri": "https://localhost:8080/",
          "height": 1000
        },
        "id": "achA0nXIHkSh",
        "outputId": "22270921-8e95-4c2f-e07c-5a90583b3ed3"
      },
      "execution_count": null,
      "outputs": [
        {
          "output_type": "stream",
          "name": "stderr",
          "text": [
            "<ipython-input-53-f666de8f84e8>:3: FutureWarning: \n",
            "\n",
            "Passing `palette` without assigning `hue` is deprecated and will be removed in v0.14.0. Assign the `x` variable to `hue` and set `legend=False` for the same effect.\n",
            "\n",
            "  sns.barplot(x=df[col], y=df['Price'], palette='cool')\n"
          ]
        },
        {
          "output_type": "display_data",
          "data": {
            "text/plain": [
              "<Figure size 1000x600 with 1 Axes>"
            ],
            "image/png": "[encoded data removed]"
          },
          "metadata": {}
        },
        {
          "output_type": "stream",
          "name": "stderr",
          "text": [
            "<ipython-input-53-f666de8f84e8>:3: FutureWarning: \n",
            "\n",
            "Passing `palette` without assigning `hue` is deprecated and will be removed in v0.14.0. Assign the `x` variable to `hue` and set `legend=False` for the same effect.\n",
            "\n",
            "  sns.barplot(x=df[col], y=df['Price'], palette='cool')\n"
          ]
        },
        {
          "output_type": "display_data",
          "data": {
            "text/plain": [
              "<Figure size 640x480 with 1 Axes>"
            ],
            "image/png": "[encoded data removed]"
          },
          "metadata": {}
        },
        {
          "output_type": "stream",
          "name": "stderr",
          "text": [
            "<ipython-input-53-f666de8f84e8>:3: FutureWarning: \n",
            "\n",
            "Passing `palette` without assigning `hue` is deprecated and will be removed in v0.14.0. Assign the `x` variable to `hue` and set `legend=False` for the same effect.\n",
            "\n",
            "  sns.barplot(x=df[col], y=df['Price'], palette='cool')\n"
          ]
        },
        {
          "output_type": "display_data",
          "data": {
            "text/plain": [
              "<Figure size 640x480 with 1 Axes>"
            ],
            "image/png": "[encoded data removed]"
          },
          "metadata": {}
        },
        {
          "output_type": "stream",
          "name": "stderr",
          "text": [
            "<ipython-input-53-f666de8f84e8>:3: FutureWarning: \n",
            "\n",
            "Passing `palette` without assigning `hue` is deprecated and will be removed in v0.14.0. Assign the `x` variable to `hue` and set `legend=False` for the same effect.\n",
            "\n",
            "  sns.barplot(x=df[col], y=df['Price'], palette='cool')\n"
          ]
        },
        {
          "output_type": "display_data",
          "data": {
            "text/plain": [
              "<Figure size 640x480 with 1 Axes>"
            ],
            "image/png": "[encoded data removed]"
          },
          "metadata": {}
        },
        {
          "output_type": "stream",
          "name": "stderr",
          "text": [
            "<ipython-input-53-f666de8f84e8>:3: FutureWarning: \n",
            "\n",
            "Passing `palette` without assigning `hue` is deprecated and will be removed in v0.14.0. Assign the `x` variable to `hue` and set `legend=False` for the same effect.\n",
            "\n",
            "  sns.barplot(x=df[col], y=df['Price'], palette='cool')\n"
          ]
        },
        {
          "output_type": "display_data",
          "data": {
            "text/plain": [
              "<Figure size 640x480 with 1 Axes>"
            ],
            "image/png": "[encoded data removed]"
          },
          "metadata": {}
        }
      ]
    },
    {
      "cell_type": "code",
      "source": [
        "plt.figure(figsize=(10, 6))\n",
        "for col in numerical_columns.columns:\n",
        "    sns.boxplot(df[col])\n",
        "    plt.title(f\"Distribution of {col}\")\n",
        "    plt.xlabel(col)\n",
        "    plt.xticks(rotation=45)\n",
        "    plt.show()\n"
      ],
      "metadata": {
        "execution": {
          "iopub.status.busy": "2024-05-27T12:01:32.757647Z",
          "iopub.execute_input": "2024-05-27T12:01:32.758071Z",
          "iopub.status.idle": "2024-05-27T12:01:34.262742Z",
          "shell.execute_reply.started": "2024-05-27T12:01:32.758032Z",
          "shell.execute_reply": "2024-05-27T12:01:34.261699Z"
        },
        "editable": false,
        "trusted": true,
        "colab": {
          "base_uri": "https://localhost:8080/",
          "height": 1000
        },
        "id": "lyYc5YTcHkSi",
        "outputId": "7ffb9be7-52b5-43f9-c578-56abb9f1953d"
      },
      "execution_count": null,
      "outputs": [
        {
          "output_type": "display_data",
          "data": {
            "text/plain": [
              "<Figure size 1000x600 with 1 Axes>"
            ],
            "image/png": "[encoded data removed]"
          },
          "metadata": {}
        },
        {
          "output_type": "display_data",
          "data": {
            "text/plain": [
              "<Figure size 640x480 with 1 Axes>"
            ],
            "image/png": "[encoded data removed]"
          },
          "metadata": {}
        },
        {
          "output_type": "display_data",
          "data": {
            "text/plain": [
              "<Figure size 640x480 with 1 Axes>"
            ],
            "image/png": "[encoded data removed]"
          },
          "metadata": {}
        },
        {
          "output_type": "display_data",
          "data": {
            "text/plain": [
              "<Figure size 640x480 with 1 Axes>"
            ],
            "image/png": "[encoded data removed]"
          },
          "metadata": {}
        },
        {
          "output_type": "display_data",
          "data": {
            "text/plain": [
              "<Figure size 640x480 with 1 Axes>"
            ],
            "image/png": "[encoded data removed]"
          },
          "metadata": {}
        },
        {
          "output_type": "display_data",
          "data": {
            "text/plain": [
              "<Figure size 640x480 with 1 Axes>"
            ],
            "image/png": "[encoded data removed]"
          },
          "metadata": {}
        }
      ]
    },
    {
      "cell_type": "code",
      "source": [
        "from IPython.display import display, HTML\n",
        "\n",
        "\n",
        "content = \"\"\"\n",
        "<div style=\"background-color: #90e0ef; padding: 20px; border-radius: 10px;\">\n",
        "    <h1>Preprocessing</h1>\n",
        "</div>\n",
        "\"\"\"\n",
        "\n",
        "# Display the HTML content\n",
        "display(HTML(content))"
      ],
      "metadata": {
        "execution": {
          "iopub.status.busy": "2024-05-27T12:09:34.450899Z",
          "iopub.execute_input": "2024-05-27T12:09:34.45133Z",
          "iopub.status.idle": "2024-05-27T12:09:34.459122Z",
          "shell.execute_reply.started": "2024-05-27T12:09:34.451296Z",
          "shell.execute_reply": "2024-05-27T12:09:34.458023Z"
        },
        "_kg_hide-input": true,
        "editable": false,
        "trusted": true,
        "colab": {
          "base_uri": "https://localhost:8080/",
          "height": 114
        },
        "id": "_SQ6CzdGHkSi",
        "outputId": "e093481f-68ad-47ae-d667-119744f376ac"
      },
      "execution_count": null,
      "outputs": [
        {
          "output_type": "display_data",
          "data": {
            "text/plain": [
              "<IPython.core.display.HTML object>"
            ],
            "text/html": [
              "\n",
              "<div style=\"background-color: #90e0ef; padding: 20px; border-radius: 10px;\">\n",
              "    <h1>Preprocessing</h1>\n",
              "</div>\n"
            ]
          },
          "metadata": {}
        }
      ]
    },
    {
      "cell_type": "code",
      "source": [
        "def handle_missing_values(df):\n",
        "\n",
        "    numerical_cols = df.select_dtypes(include=['int64', 'float64']).columns\n",
        "    df[numerical_cols] = df[numerical_cols].fillna(df[numerical_cols].median())\n",
        "\n",
        "\n",
        "    categorical_cols = df.select_dtypes(include=['object']).columns\n",
        "    for col in categorical_cols:\n",
        "        missing_rows = df[col].isna().sum()\n",
        "\n",
        "        if missing_rows < 50:\n",
        "            df.dropna(subset = [col], inplace=True)\n",
        "\n",
        "    return df"
      ],
      "metadata": {
        "execution": {
          "iopub.status.busy": "2024-05-27T12:01:34.264396Z",
          "iopub.execute_input": "2024-05-27T12:01:34.264859Z",
          "iopub.status.idle": "2024-05-27T12:01:34.272721Z",
          "shell.execute_reply.started": "2024-05-27T12:01:34.264796Z",
          "shell.execute_reply": "2024-05-27T12:01:34.271653Z"
        },
        "editable": false,
        "trusted": true,
        "id": "7QeIcHw9HkSi"
      },
      "execution_count": null,
      "outputs": []
    },
    {
      "cell_type": "code",
      "source": [
        "handle_missing_values(df)\n",
        "df.isna().sum()"
      ],
      "metadata": {
        "execution": {
          "iopub.status.busy": "2024-05-27T12:01:34.274485Z",
          "iopub.execute_input": "2024-05-27T12:01:34.274893Z",
          "iopub.status.idle": "2024-05-27T12:01:34.308776Z",
          "shell.execute_reply.started": "2024-05-27T12:01:34.274856Z",
          "shell.execute_reply": "2024-05-27T12:01:34.307765Z"
        },
        "editable": false,
        "trusted": true,
        "colab": {
          "base_uri": "https://localhost:8080/"
        },
        "id": "OPaab_2pHkSi",
        "outputId": "46e9a424-a24a-4fc4-a898-3ac2020e952b"
      },
      "execution_count": null,
      "outputs": [
        {
          "output_type": "execute_result",
          "data": {
            "text/plain": [
              "Area           0\n",
              "BHK            0\n",
              "Bathroom       0\n",
              "Furnishing     0\n",
              "Locality       0\n",
              "Parking        0\n",
              "Price          0\n",
              "Status         0\n",
              "Transaction    0\n",
              "Type           0\n",
              "Per_Sqft       0\n",
              "dtype: int64"
            ]
          },
          "metadata": {},
          "execution_count": 39
        }
      ]
    },
    {
      "cell_type": "code",
      "source": [
        "from sklearn.preprocessing import MinMaxScaler, LabelEncoder\n",
        "\n",
        "def preprocess_data(df):\n",
        "    # Detect numerical columns\n",
        "    numerical_cols = df.select_dtypes(include=['int64', 'float64']).columns\n",
        "\n",
        "    # Min-max scale numerical columns\n",
        "    scaler = MinMaxScaler()\n",
        "    df[numerical_cols] = scaler.fit_transform(df[numerical_cols])\n",
        "\n",
        "    # Detect categorical columns\n",
        "    categorical_cols = df.select_dtypes(include=['object']).columns\n",
        "\n",
        "    # Label encode categorical columns\n",
        "    label_encoder = LabelEncoder()\n",
        "    for col in categorical_cols:\n",
        "        if col in df.columns:  # Check if column still exists in DataFrame (might have been dropped)\n",
        "            df[col] = label_encoder.fit_transform(df[col])\n",
        "\n",
        "    return df\n",
        "\n",
        "preprocess_data(df)\n"
      ],
      "metadata": {
        "execution": {
          "iopub.status.busy": "2024-05-27T12:01:34.31018Z",
          "iopub.execute_input": "2024-05-27T12:01:34.310542Z",
          "iopub.status.idle": "2024-05-27T12:01:34.347418Z",
          "shell.execute_reply.started": "2024-05-27T12:01:34.310513Z",
          "shell.execute_reply": "2024-05-27T12:01:34.346276Z"
        },
        "editable": false,
        "trusted": true,
        "colab": {
          "base_uri": "https://localhost:8080/",
          "height": 424
        },
        "id": "vWTIHj88HkSj",
        "outputId": "daa3e500-1845-45ac-d4df-1464f04ef518"
      },
      "execution_count": null,
      "outputs": [
        {
          "output_type": "execute_result",
          "data": {
            "text/plain": [
              "          Area       BHK  Bathroom  Furnishing  Locality   Parking     Price  \\\n",
              "0     0.031806  0.222222  0.166667           1       282  0.000000  0.023013   \n",
              "1     0.029746  0.111111  0.166667           1       138  0.000000  0.016736   \n",
              "2     0.037986  0.111111  0.166667           0        49  0.000000  0.060669   \n",
              "3     0.023566  0.111111  0.166667           1       280  0.000000  0.013389   \n",
              "4     0.025626  0.111111  0.166667           1       281  0.000000  0.021757   \n",
              "...        ...       ...       ...         ...       ...       ...       ...   \n",
              "1254  0.168507  0.333333  0.666667           2        44  0.017699  0.225941   \n",
              "1255  0.042106  0.222222  0.166667           1        44  0.017699  0.048117   \n",
              "1256  0.034896  0.222222  0.333333           1        44  0.017699  0.069038   \n",
              "1257  0.039634  0.111111  0.166667           2        45  0.000000  0.043933   \n",
              "1258  0.454103  0.222222  0.333333           2        44  0.000000  0.073222   \n",
              "\n",
              "      Status  Transaction  Type  Per_Sqft  \n",
              "0          1            0     1  0.055101  \n",
              "1          1            0     0  0.029702  \n",
              "2          1            1     0  0.029702  \n",
              "3          1            1     1  0.029702  \n",
              "4          1            0     1  0.029702  \n",
              "...      ...          ...   ...       ...  \n",
              "1254       1            0     1  0.064023  \n",
              "1255       1            1     1  0.064023  \n",
              "1256       1            0     1  0.064023  \n",
              "1257       1            1     1  0.064023  \n",
              "1258       1            0     1  0.064023  \n",
              "\n",
              "[1254 rows x 11 columns]"
            ],
            "text/html": [
              "\n",
              "  <div id=\"df-46f5c64c-5416-4272-b3be-1dda7b74d8ec\" class=\"colab-df-container\">\n",
              "    <div>\n",
              "<style scoped>\n",
              "    .dataframe tbody tr th:only-of-type {\n",
              "        vertical-align: middle;\n",
              "    }\n",
              "\n",
              "    .dataframe tbody tr th {\n",
              "        vertical-align: top;\n",
              "    }\n",
              "\n",
              "    .dataframe thead th {\n",
              "        text-align: right;\n",
              "    }\n",
              "</style>\n",
              "<table border=\"1\" class=\"dataframe\">\n",
              "  <thead>\n",
              "    <tr style=\"text-align: right;\">\n",
              "      <th></th>\n",
              "      <th>Area</th>\n",
              "      <th>BHK</th>\n",
              "      <th>Bathroom</th>\n",
              "      <th>Furnishing</th>\n",
              "      <th>Locality</th>\n",
              "      <th>Parking</th>\n",
              "      <th>Price</th>\n",
              "      <th>Status</th>\n",
              "      <th>Transaction</th>\n",
              "      <th>Type</th>\n",
              "      <th>Per_Sqft</th>\n",
              "    </tr>\n",
              "  </thead>\n",
              "  <tbody>\n",
              "    <tr>\n",
              "      <th>0</th>\n",
              "      <td>0.031806</td>\n",
              "      <td>0.222222</td>\n",
              "      <td>0.166667</td>\n",
              "      <td>1</td>\n",
              "      <td>282</td>\n",
              "      <td>0.000000</td>\n",
              "      <td>0.023013</td>\n",
              "      <td>1</td>\n",
              "      <td>0</td>\n",
              "      <td>1</td>\n",
              "      <td>0.055101</td>\n",
              "    </tr>\n",
              "    <tr>\n",
              "      <th>1</th>\n",
              "      <td>0.029746</td>\n",
              "      <td>0.111111</td>\n",
              "      <td>0.166667</td>\n",
              "      <td>1</td>\n",
              "      <td>138</td>\n",
              "      <td>0.000000</td>\n",
              "      <td>0.016736</td>\n",
              "      <td>1</td>\n",
              "      <td>0</td>\n",
              "      <td>0</td>\n",
              "      <td>0.029702</td>\n",
              "    </tr>\n",
              "    <tr>\n",
              "      <th>2</th>\n",
              "      <td>0.037986</td>\n",
              "      <td>0.111111</td>\n",
              "      <td>0.166667</td>\n",
              "      <td>0</td>\n",
              "      <td>49</td>\n",
              "      <td>0.000000</td>\n",
              "      <td>0.060669</td>\n",
              "      <td>1</td>\n",
              "      <td>1</td>\n",
              "      <td>0</td>\n",
              "      <td>0.029702</td>\n",
              "    </tr>\n",
              "    <tr>\n",
              "      <th>3</th>\n",
              "      <td>0.023566</td>\n",
              "      <td>0.111111</td>\n",
              "      <td>0.166667</td>\n",
              "      <td>1</td>\n",
              "      <td>280</td>\n",
              "      <td>0.000000</td>\n",
              "      <td>0.013389</td>\n",
              "      <td>1</td>\n",
              "      <td>1</td>\n",
              "      <td>1</td>\n",
              "      <td>0.029702</td>\n",
              "    </tr>\n",
              "    <tr>\n",
              "      <th>4</th>\n",
              "      <td>0.025626</td>\n",
              "      <td>0.111111</td>\n",
              "      <td>0.166667</td>\n",
              "      <td>1</td>\n",
              "      <td>281</td>\n",
              "      <td>0.000000</td>\n",
              "      <td>0.021757</td>\n",
              "      <td>1</td>\n",
              "      <td>0</td>\n",
              "      <td>1</td>\n",
              "      <td>0.029702</td>\n",
              "    </tr>\n",
              "    <tr>\n",
              "      <th>...</th>\n",
              "      <td>...</td>\n",
              "      <td>...</td>\n",
              "      <td>...</td>\n",
              "      <td>...</td>\n",
              "      <td>...</td>\n",
              "      <td>...</td>\n",
              "      <td>...</td>\n",
              "      <td>...</td>\n",
              "      <td>...</td>\n",
              "      <td>...</td>\n",
              "      <td>...</td>\n",
              "    </tr>\n",
              "    <tr>\n",
              "      <th>1254</th>\n",
              "      <td>0.168507</td>\n",
              "      <td>0.333333</td>\n",
              "      <td>0.666667</td>\n",
              "      <td>2</td>\n",
              "      <td>44</td>\n",
              "      <td>0.017699</td>\n",
              "      <td>0.225941</td>\n",
              "      <td>1</td>\n",
              "      <td>0</td>\n",
              "      <td>1</td>\n",
              "      <td>0.064023</td>\n",
              "    </tr>\n",
              "    <tr>\n",
              "      <th>1255</th>\n",
              "      <td>0.042106</td>\n",
              "      <td>0.222222</td>\n",
              "      <td>0.166667</td>\n",
              "      <td>1</td>\n",
              "      <td>44</td>\n",
              "      <td>0.017699</td>\n",
              "      <td>0.048117</td>\n",
              "      <td>1</td>\n",
              "      <td>1</td>\n",
              "      <td>1</td>\n",
              "      <td>0.064023</td>\n",
              "    </tr>\n",
              "    <tr>\n",
              "      <th>1256</th>\n",
              "      <td>0.034896</td>\n",
              "      <td>0.222222</td>\n",
              "      <td>0.333333</td>\n",
              "      <td>1</td>\n",
              "      <td>44</td>\n",
              "      <td>0.017699</td>\n",
              "      <td>0.069038</td>\n",
              "      <td>1</td>\n",
              "      <td>0</td>\n",
              "      <td>1</td>\n",
              "      <td>0.064023</td>\n",
              "    </tr>\n",
              "    <tr>\n",
              "      <th>1257</th>\n",
              "      <td>0.039634</td>\n",
              "      <td>0.111111</td>\n",
              "      <td>0.166667</td>\n",
              "      <td>2</td>\n",
              "      <td>45</td>\n",
              "      <td>0.000000</td>\n",
              "      <td>0.043933</td>\n",
              "      <td>1</td>\n",
              "      <td>1</td>\n",
              "      <td>1</td>\n",
              "      <td>0.064023</td>\n",
              "    </tr>\n",
              "    <tr>\n",
              "      <th>1258</th>\n",
              "      <td>0.454103</td>\n",
              "      <td>0.222222</td>\n",
              "      <td>0.333333</td>\n",
              "      <td>2</td>\n",
              "      <td>44</td>\n",
              "      <td>0.000000</td>\n",
              "      <td>0.073222</td>\n",
              "      <td>1</td>\n",
              "      <td>0</td>\n",
              "      <td>1</td>\n",
              "      <td>0.064023</td>\n",
              "    </tr>\n",
              "  </tbody>\n",
              "</table>\n",
              "<p>1254 rows × 11 columns</p>\n",
              "</div>\n",
              "    <div class=\"colab-df-buttons\">\n",
              "\n",
              "  <div class=\"colab-df-container\">\n",
              "    <button class=\"colab-df-convert\" onclick=\"convertToInteractive('df-46f5c64c-5416-4272-b3be-1dda7b74d8ec')\"\n",
              "            title=\"Convert this dataframe to an interactive table.\"\n",
              "            style=\"display:none;\">\n",
              "\n",
              "  <svg xmlns=\"http://www.w3.org/2000/svg\" height=\"24px\" viewBox=\"0 -960 960 960\">\n",
              "    <path d=\"M120-120v-720h720v720H120Zm60-500h600v-160H180v160Zm220 220h160v-160H400v160Zm0 220h160v-160H400v160ZM180-400h160v-160H180v160Zm440 0h160v-160H620v160ZM180-180h160v-160H180v160Zm440 0h160v-160H620v160Z\"/>\n",
              "  </svg>\n",
              "    </button>\n",
              "\n",
              "  <style>\n",
              "    .colab-df-container {\n",
              "      display:flex;\n",
              "      gap: 12px;\n",
              "    }\n",
              "\n",
              "    .colab-df-convert {\n",
              "      background-color: #E8F0FE;\n",
              "      border: none;\n",
              "      border-radius: 50%;\n",
              "      cursor: pointer;\n",
              "      display: none;\n",
              "      fill: #1967D2;\n",
              "      height: 32px;\n",
              "      padding: 0 0 0 0;\n",
              "      width: 32px;\n",
              "    }\n",
              "\n",
              "    .colab-df-convert:hover {\n",
              "      background-color: #E2EBFA;\n",
              "      box-shadow: 0px 1px 2px rgba(60, 64, 67, 0.3), 0px 1px 3px 1px rgba(60, 64, 67, 0.15);\n",
              "      fill: #174EA6;\n",
              "    }\n",
              "\n",
              "    .colab-df-buttons div {\n",
              "      margin-bottom: 4px;\n",
              "    }\n",
              "\n",
              "    [theme=dark] .colab-df-convert {\n",
              "      background-color: #3B4455;\n",
              "      fill: #D2E3FC;\n",
              "    }\n",
              "\n",
              "    [theme=dark] .colab-df-convert:hover {\n",
              "      background-color: #434B5C;\n",
              "      box-shadow: 0px 1px 3px 1px rgba(0, 0, 0, 0.15);\n",
              "      filter: drop-shadow(0px 1px 2px rgba(0, 0, 0, 0.3));\n",
              "      fill: #FFFFFF;\n",
              "    }\n",
              "  </style>\n",
              "\n",
              "    <script>\n",
              "      const buttonEl =\n",
              "        document.querySelector('#df-46f5c64c-5416-4272-b3be-1dda7b74d8ec button.colab-df-convert');\n",
              "      buttonEl.style.display =\n",
              "        google.colab.kernel.accessAllowed ? 'block' : 'none';\n",
              "\n",
              "      async function convertToInteractive(key) {\n",
              "        const element = document.querySelector('#df-46f5c64c-5416-4272-b3be-1dda7b74d8ec');\n",
              "        const dataTable =\n",
              "          await google.colab.kernel.invokeFunction('convertToInteractive',\n",
              "                                                    [key], {});\n",
              "        if (!dataTable) return;\n",
              "\n",
              "        const docLinkHtml = 'Like what you see? Visit the ' +\n",
              "          '<a target=\"_blank\" href=https://colab.research.google.com/notebooks/data_table.ipynb>data table notebook</a>'\n",
              "          + ' to learn more about interactive tables.';\n",
              "        element.innerHTML = '';\n",
              "        dataTable['output_type'] = 'display_data';\n",
              "        await google.colab.output.renderOutput(dataTable, element);\n",
              "        const docLink = document.createElement('div');\n",
              "        docLink.innerHTML = docLinkHtml;\n",
              "        element.appendChild(docLink);\n",
              "      }\n",
              "    </script>\n",
              "  </div>\n",
              "\n",
              "\n",
              "<div id=\"df-9dfe5a4a-47c9-48d7-958d-447343a8271a\">\n",
              "  <button class=\"colab-df-quickchart\" onclick=\"quickchart('df-9dfe5a4a-47c9-48d7-958d-447343a8271a')\"\n",
              "            title=\"Suggest charts\"\n",
              "            style=\"display:none;\">\n",
              "\n",
              "<svg xmlns=\"http://www.w3.org/2000/svg\" height=\"24px\"viewBox=\"0 0 24 24\"\n",
              "     width=\"24px\">\n",
              "    <g>\n",
              "        <path d=\"M19 3H5c-1.1 0-2 .9-2 2v14c0 1.1.9 2 2 2h14c1.1 0 2-.9 2-2V5c0-1.1-.9-2-2-2zM9 17H7v-7h2v7zm4 0h-2V7h2v10zm4 0h-2v-4h2v4z\"/>\n",
              "    </g>\n",
              "</svg>\n",
              "  </button>\n",
              "\n",
              "<style>\n",
              "  .colab-df-quickchart {\n",
              "      --bg-color: #E8F0FE;\n",
              "      --fill-color: #1967D2;\n",
              "      --hover-bg-color: #E2EBFA;\n",
              "      --hover-fill-color: #174EA6;\n",
              "      --disabled-fill-color: #AAA;\n",
              "      --disabled-bg-color: #DDD;\n",
              "  }\n",
              "\n",
              "  [theme=dark] .colab-df-quickchart {\n",
              "      --bg-color: #3B4455;\n",
              "      --fill-color: #D2E3FC;\n",
              "      --hover-bg-color: #434B5C;\n",
              "      --hover-fill-color: #FFFFFF;\n",
              "      --disabled-bg-color: #3B4455;\n",
              "      --disabled-fill-color: #666;\n",
              "  }\n",
              "\n",
              "  .colab-df-quickchart {\n",
              "    background-color: var(--bg-color);\n",
              "    border: none;\n",
              "    border-radius: 50%;\n",
              "    cursor: pointer;\n",
              "    display: none;\n",
              "    fill: var(--fill-color);\n",
              "    height: 32px;\n",
              "    padding: 0;\n",
              "    width: 32px;\n",
              "  }\n",
              "\n",
              "  .colab-df-quickchart:hover {\n",
              "    background-color: var(--hover-bg-color);\n",
              "    box-shadow: 0 1px 2px rgba(60, 64, 67, 0.3), 0 1px 3px 1px rgba(60, 64, 67, 0.15);\n",
              "    fill: var(--button-hover-fill-color);\n",
              "  }\n",
              "\n",
              "  .colab-df-quickchart-complete:disabled,\n",
              "  .colab-df-quickchart-complete:disabled:hover {\n",
              "    background-color: var(--disabled-bg-color);\n",
              "    fill: var(--disabled-fill-color);\n",
              "    box-shadow: none;\n",
              "  }\n",
              "\n",
              "  .colab-df-spinner {\n",
              "    border: 2px solid var(--fill-color);\n",
              "    border-color: transparent;\n",
              "    border-bottom-color: var(--fill-color);\n",
              "    animation:\n",
              "      spin 1s steps(1) infinite;\n",
              "  }\n",
              "\n",
              "  @keyframes spin {\n",
              "    0% {\n",
              "      border-color: transparent;\n",
              "      border-bottom-color: var(--fill-color);\n",
              "      border-left-color: var(--fill-color);\n",
              "    }\n",
              "    20% {\n",
              "      border-color: transparent;\n",
              "      border-left-color: var(--fill-color);\n",
              "      border-top-color: var(--fill-color);\n",
              "    }\n",
              "    30% {\n",
              "      border-color: transparent;\n",
              "      border-left-color: var(--fill-color);\n",
              "      border-top-color: var(--fill-color);\n",
              "      border-right-color: var(--fill-color);\n",
              "    }\n",
              "    40% {\n",
              "      border-color: transparent;\n",
              "      border-right-color: var(--fill-color);\n",
              "      border-top-color: var(--fill-color);\n",
              "    }\n",
              "    60% {\n",
              "      border-color: transparent;\n",
              "      border-right-color: var(--fill-color);\n",
              "    }\n",
              "    80% {\n",
              "      border-color: transparent;\n",
              "      border-right-color: var(--fill-color);\n",
              "      border-bottom-color: var(--fill-color);\n",
              "    }\n",
              "    90% {\n",
              "      border-color: transparent;\n",
              "      border-bottom-color: var(--fill-color);\n",
              "    }\n",
              "  }\n",
              "</style>\n",
              "\n",
              "  <script>\n",
              "    async function quickchart(key) {\n",
              "      const quickchartButtonEl =\n",
              "        document.querySelector('#' + key + ' button');\n",
              "      quickchartButtonEl.disabled = true;  // To prevent multiple clicks.\n",
              "      quickchartButtonEl.classList.add('colab-df-spinner');\n",
              "      try {\n",
              "        const charts = await google.colab.kernel.invokeFunction(\n",
              "            'suggestCharts', [key], {});\n",
              "      } catch (error) {\n",
              "        console.error('Error during call to suggestCharts:', error);\n",
              "      }\n",
              "      quickchartButtonEl.classList.remove('colab-df-spinner');\n",
              "      quickchartButtonEl.classList.add('colab-df-quickchart-complete');\n",
              "    }\n",
              "    (() => {\n",
              "      let quickchartButtonEl =\n",
              "        document.querySelector('#df-9dfe5a4a-47c9-48d7-958d-447343a8271a button');\n",
              "      quickchartButtonEl.style.display =\n",
              "        google.colab.kernel.accessAllowed ? 'block' : 'none';\n",
              "    })();\n",
              "  </script>\n",
              "</div>\n",
              "\n",
              "  <div id=\"id_209bb10a-ea82-4542-9b91-fb8f15d0195e\">\n",
              "    <style>\n",
              "      .colab-df-generate {\n",
              "        background-color: #E8F0FE;\n",
              "        border: none;\n",
              "        border-radius: 50%;\n",
              "        cursor: pointer;\n",
              "        display: none;\n",
              "        fill: #1967D2;\n",
              "        height: 32px;\n",
              "        padding: 0 0 0 0;\n",
              "        width: 32px;\n",
              "      }\n",
              "\n",
              "      .colab-df-generate:hover {\n",
              "        background-color: #E2EBFA;\n",
              "        box-shadow: 0px 1px 2px rgba(60, 64, 67, 0.3), 0px 1px 3px 1px rgba(60, 64, 67, 0.15);\n",
              "        fill: #174EA6;\n",
              "      }\n",
              "\n",
              "      [theme=dark] .colab-df-generate {\n",
              "        background-color: #3B4455;\n",
              "        fill: #D2E3FC;\n",
              "      }\n",
              "\n",
              "      [theme=dark] .colab-df-generate:hover {\n",
              "        background-color: #434B5C;\n",
              "        box-shadow: 0px 1px 3px 1px rgba(0, 0, 0, 0.15);\n",
              "        filter: drop-shadow(0px 1px 2px rgba(0, 0, 0, 0.3));\n",
              "        fill: #FFFFFF;\n",
              "      }\n",
              "    </style>\n",
              "    <button class=\"colab-df-generate\" onclick=\"generateWithVariable('df')\"\n",
              "            title=\"Generate code using this dataframe.\"\n",
              "            style=\"display:none;\">\n",
              "\n",
              "  <svg xmlns=\"http://www.w3.org/2000/svg\" height=\"24px\"viewBox=\"0 0 24 24\"\n",
              "       width=\"24px\">\n",
              "    <path d=\"M7,19H8.4L18.45,9,17,7.55,7,17.6ZM5,21V16.75L18.45,3.32a2,2,0,0,1,2.83,0l1.4,1.43a1.91,1.91,0,0,1,.58,1.4,1.91,1.91,0,0,1-.58,1.4L9.25,21ZM18.45,9,17,7.55Zm-12,3A5.31,5.31,0,0,0,4.9,8.1,5.31,5.31,0,0,0,1,6.5,5.31,5.31,0,0,0,4.9,4.9,5.31,5.31,0,0,0,6.5,1,5.31,5.31,0,0,0,8.1,4.9,5.31,5.31,0,0,0,12,6.5,5.46,5.46,0,0,0,6.5,12Z\"/>\n",
              "  </svg>\n",
              "    </button>\n",
              "    <script>\n",
              "      (() => {\n",
              "      const buttonEl =\n",
              "        document.querySelector('#id_209bb10a-ea82-4542-9b91-fb8f15d0195e button.colab-df-generate');\n",
              "      buttonEl.style.display =\n",
              "        google.colab.kernel.accessAllowed ? 'block' : 'none';\n",
              "\n",
              "      buttonEl.onclick = () => {\n",
              "        google.colab.notebook.generateWithVariable('df');\n",
              "      }\n",
              "      })();\n",
              "    </script>\n",
              "  </div>\n",
              "\n",
              "    </div>\n",
              "  </div>\n"
            ],
            "application/vnd.google.colaboratory.intrinsic+json": {
              "type": "dataframe",
              "variable_name": "df",
              "summary": "{\n  \"name\": \"df\",\n  \"rows\": 1254,\n  \"fields\": [\n    {\n      \"column\": \"Area\",\n      \"properties\": {\n        \"dtype\": \"number\",\n        \"std\": 0.06470583522383798,\n        \"min\": 0.0,\n        \"max\": 1.0,\n        \"num_unique_values\": 315,\n        \"samples\": [\n          0.10398813447593935,\n          0.06476598549769282,\n          0.05034607778510217\n        ],\n        \"semantic_type\": \"\",\n        \"description\": \"\"\n      }\n    },\n    {\n      \"column\": \"BHK\",\n      \"properties\": {\n        \"dtype\": \"number\",\n        \"std\": 0.10599786199720129,\n        \"min\": 0.0,\n        \"max\": 1.0,\n        \"num_unique_values\": 8,\n        \"samples\": [\n          0.1111111111111111,\n          0.4444444444444445,\n          0.2222222222222222\n        ],\n        \"semantic_type\": \"\",\n        \"description\": \"\"\n      }\n    },\n    {\n      \"column\": \"Bathroom\",\n      \"properties\": {\n        \"dtype\": \"number\",\n        \"std\": 0.17385917331016892,\n        \"min\": 0.0,\n        \"max\": 0.9999999999999999,\n        \"num_unique_values\": 7,\n        \"samples\": [\n          0.16666666666666666,\n          0.33333333333333337,\n          0.8333333333333334\n        ],\n        \"semantic_type\": \"\",\n        \"description\": \"\"\n      }\n    },\n    {\n      \"column\": \"Furnishing\",\n      \"properties\": {\n        \"dtype\": \"number\",\n        \"std\": 0,\n        \"min\": 0,\n        \"max\": 2,\n        \"num_unique_values\": 3,\n        \"samples\": [\n          1,\n          0,\n          2\n        ],\n        \"semantic_type\": \"\",\n        \"description\": \"\"\n      }\n    },\n    {\n      \"column\": \"Locality\",\n      \"properties\": {\n        \"dtype\": \"number\",\n        \"std\": 103,\n        \"min\": 0,\n        \"max\": 362,\n        \"num_unique_values\": 363,\n        \"samples\": [\n          299,\n          162,\n          274\n        ],\n        \"semantic_type\": \"\",\n        \"description\": \"\"\n      }\n    },\n    {\n      \"column\": \"Parking\",\n      \"properties\": {\n        \"dtype\": \"number\",\n        \"std\": 0.054957488127270936,\n        \"min\": 0.0,\n        \"max\": 1.0,\n        \"num_unique_values\": 9,\n        \"samples\": [\n          0.07964601769911504,\n          0.035398230088495575,\n          0.017699115044247787\n        ],\n        \"semantic_type\": \"\",\n        \"description\": \"\"\n      }\n    },\n    {\n      \"column\": \"Price\",\n      \"properties\": {\n        \"dtype\": \"number\",\n        \"std\": 0.10729479488227,\n        \"min\": 0.0,\n        \"max\": 1.0,\n        \"num_unique_values\": 284,\n        \"samples\": [\n          0.028033472803347285,\n          0.03158995815899582,\n          0.019246861924686193\n        ],\n        \"semantic_type\": \"\",\n        \"description\": \"\"\n      }\n    },\n    {\n      \"column\": \"Status\",\n      \"properties\": {\n        \"dtype\": \"number\",\n        \"std\": 0,\n        \"min\": 0,\n        \"max\": 1,\n        \"num_unique_values\": 2,\n        \"samples\": [\n          0,\n          1\n        ],\n        \"semantic_type\": \"\",\n        \"description\": \"\"\n      }\n    },\n    {\n      \"column\": \"Transaction\",\n      \"properties\": {\n        \"dtype\": \"number\",\n        \"std\": 0,\n        \"min\": 0,\n        \"max\": 1,\n        \"num_unique_values\": 2,\n        \"samples\": [\n          1,\n          0\n        ],\n        \"semantic_type\": \"\",\n        \"description\": \"\"\n      }\n    },\n    {\n      \"column\": \"Type\",\n      \"properties\": {\n        \"dtype\": \"number\",\n        \"std\": 0,\n        \"min\": 0,\n        \"max\": 1,\n        \"num_unique_values\": 2,\n        \"samples\": [\n          0,\n          1\n        ],\n        \"semantic_type\": \"\",\n        \"description\": \"\"\n      }\n    },\n    {\n      \"column\": \"Per_Sqft\",\n      \"properties\": {\n        \"dtype\": \"number\",\n        \"std\": 0.10456576028497165,\n        \"min\": 0.0,\n        \"max\": 1.0,\n        \"num_unique_values\": 250,\n        \"samples\": [\n          0.0845535331788174,\n          0.07241561123499236\n        ],\n        \"semantic_type\": \"\",\n        \"description\": \"\"\n      }\n    }\n  ]\n}"
            }
          },
          "metadata": {},
          "execution_count": 40
        }
      ]
    },
    {
      "cell_type": "code",
      "source": [
        "X = df.drop('Price', axis=1)\n",
        "y = df['Price']\n",
        "\n",
        "X_train, X_test, y_train, y_test = train_test_split(X, y, test_size=0.2, random_state = 42)"
      ],
      "metadata": {
        "execution": {
          "iopub.status.busy": "2024-05-27T12:01:34.348996Z",
          "iopub.execute_input": "2024-05-27T12:01:34.349883Z",
          "iopub.status.idle": "2024-05-27T12:01:34.359415Z",
          "shell.execute_reply.started": "2024-05-27T12:01:34.34984Z",
          "shell.execute_reply": "2024-05-27T12:01:34.358423Z"
        },
        "editable": false,
        "trusted": true,
        "id": "xwXsCrSMHkSj"
      },
      "execution_count": null,
      "outputs": []
    },
    {
      "cell_type": "code",
      "source": [
        "from IPython.display import display, HTML\n",
        "\n",
        "\n",
        "content = \"\"\"\n",
        "<div style=\"background-color: #90e0ef; padding: 20px; border-radius: 10px;\">\n",
        "    <h1>Model building</h1>\n",
        "</div>\n",
        "\"\"\"\n",
        "\n",
        "# Display the HTML content\n",
        "display(HTML(content))"
      ],
      "metadata": {
        "execution": {
          "iopub.status.busy": "2024-05-27T12:09:56.530216Z",
          "iopub.execute_input": "2024-05-27T12:09:56.531393Z",
          "iopub.status.idle": "2024-05-27T12:09:56.53927Z",
          "shell.execute_reply.started": "2024-05-27T12:09:56.531346Z",
          "shell.execute_reply": "2024-05-27T12:09:56.538104Z"
        },
        "_kg_hide-input": true,
        "editable": false,
        "trusted": true,
        "colab": {
          "base_uri": "https://localhost:8080/",
          "height": 114
        },
        "id": "L6FgfezqHkSj",
        "outputId": "19014879-8995-4802-aaf4-994f9ed4970f"
      },
      "execution_count": null,
      "outputs": [
        {
          "output_type": "display_data",
          "data": {
            "text/plain": [
              "<IPython.core.display.HTML object>"
            ],
            "text/html": [
              "\n",
              "<div style=\"background-color: #90e0ef; padding: 20px; border-radius: 10px;\">\n",
              "    <h1>Model building</h1>\n",
              "</div>\n"
            ]
          },
          "metadata": {}
        }
      ]
    },
    {
      "cell_type": "code",
      "source": [
        "from sklearn.linear_model import (\n",
        "    LinearRegression,\n",
        "    Lasso,\n",
        "    Ridge,\n",
        "    ElasticNet,\n",
        ")\n",
        "from sklearn.tree import DecisionTreeRegressor\n",
        "from sklearn.ensemble import RandomForestRegressor, GradientBoostingRegressor\n",
        "from sklearn.svm import SVR\n",
        "from sklearn.neighbors import KNeighborsRegressor\n",
        "import xgboost as xgb\n"
      ],
      "metadata": {
        "execution": {
          "iopub.status.busy": "2024-05-27T12:01:34.360863Z",
          "iopub.execute_input": "2024-05-27T12:01:34.362233Z",
          "iopub.status.idle": "2024-05-27T12:01:34.452743Z",
          "shell.execute_reply.started": "2024-05-27T12:01:34.362174Z",
          "shell.execute_reply": "2024-05-27T12:01:34.451577Z"
        },
        "editable": false,
        "trusted": true,
        "id": "uoysb32rHkSj"
      },
      "execution_count": null,
      "outputs": []
    },
    {
      "cell_type": "code",
      "source": [
        "from sklearn.metrics import mean_squared_error, mean_absolute_error, r2_score\n",
        "\n",
        "models = {\n",
        "    \"Linear Regression\": LinearRegression(),\n",
        "    \"Lasso Regression\": Lasso(),\n",
        "    \"Ridge Regression\": Ridge(),\n",
        "    \"ElasticNet Regression\": ElasticNet(),\n",
        "    \"Decision Tree Regression\": DecisionTreeRegressor(),\n",
        "    \"Random Forest Regression\": RandomForestRegressor(),\n",
        "    \"Gradient Boosting Regression\": GradientBoostingRegressor(),\n",
        "    \"Support Vector Regression (SVR)\": SVR(),\n",
        "    \"K-Nearest Neighbors Regression (KNN)\": KNeighborsRegressor(),\n",
        "    \"XGBoost Regression\": xgb.XGBRegressor()\n",
        "}\n",
        "\n",
        "best_model = None\n",
        "best_r2 = -float('inf')\n",
        "\n",
        "for name, model in models.items():\n",
        "\n",
        "    model.fit(X_train, y_train)\n",
        "\n",
        "    y_pred = model.predict(X_test)\n",
        "\n",
        "    mse = mean_squared_error(y_test, y_pred)\n",
        "    mae = mean_absolute_error(y_test, y_pred)\n",
        "    r2 = r2_score(y_test, y_pred)\n",
        "\n",
        "    print(f\"Model: {name}, R-squared (R2): {r2:.3f}\")\n",
        "    print()\n",
        "    print(\"=\"*75)\n",
        "\n",
        "    if r2 > best_r2:\n",
        "        best_model = model\n",
        "        best_r2 = r2\n",
        "\n",
        "\n",
        "\n",
        "\n",
        "print(f\"{best_model.__class__.__name__} with r2_score: {best_r2:3f}\")\n",
        "\n"
      ],
      "metadata": {
        "execution": {
          "iopub.status.busy": "2024-05-27T12:01:34.454111Z",
          "iopub.execute_input": "2024-05-27T12:01:34.454444Z",
          "iopub.status.idle": "2024-05-27T12:01:35.357835Z",
          "shell.execute_reply.started": "2024-05-27T12:01:34.454416Z",
          "shell.execute_reply": "2024-05-27T12:01:35.356962Z"
        },
        "editable": false,
        "trusted": true,
        "colab": {
          "base_uri": "https://localhost:8080/"
        },
        "id": "AG9IDGA_HkSj",
        "outputId": "58c8071a-e101-47e8-e8d6-78d95767958e"
      },
      "execution_count": null,
      "outputs": [
        {
          "output_type": "stream",
          "name": "stdout",
          "text": [
            "Model: Linear Regression, R-squared (R2): 0.552\n",
            "\n",
            "===========================================================================\n",
            "Model: Lasso Regression, R-squared (R2): -0.011\n",
            "\n",
            "===========================================================================\n",
            "Model: Ridge Regression, R-squared (R2): 0.557\n",
            "\n",
            "===========================================================================\n",
            "Model: ElasticNet Regression, R-squared (R2): -0.011\n",
            "\n",
            "===========================================================================\n",
            "Model: Decision Tree Regression, R-squared (R2): 0.742\n",
            "\n",
            "===========================================================================\n",
            "Model: Random Forest Regression, R-squared (R2): 0.798\n",
            "\n",
            "===========================================================================\n",
            "Model: Gradient Boosting Regression, R-squared (R2): 0.834\n",
            "\n",
            "===========================================================================\n",
            "Model: Support Vector Regression (SVR), R-squared (R2): -0.001\n",
            "\n",
            "===========================================================================\n",
            "Model: K-Nearest Neighbors Regression (KNN), R-squared (R2): 0.513\n",
            "\n",
            "===========================================================================\n",
            "Model: XGBoost Regression, R-squared (R2): 0.833\n",
            "\n",
            "===========================================================================\n",
            "GradientBoostingRegressor with r2_score: 0.834086\n"
          ]
        }
      ]
    },
    {
      "cell_type": "code",
      "source": [
        "print(f\"{best_model.__class__.__name__} with r2_score: {best_r2:3f}\")\n"
      ],
      "metadata": {
        "execution": {
          "iopub.status.busy": "2024-05-27T12:01:35.359326Z",
          "iopub.execute_input": "2024-05-27T12:01:35.359975Z",
          "iopub.status.idle": "2024-05-27T12:01:35.364999Z",
          "shell.execute_reply.started": "2024-05-27T12:01:35.359941Z",
          "shell.execute_reply": "2024-05-27T12:01:35.364212Z"
        },
        "editable": false,
        "trusted": true,
        "colab": {
          "base_uri": "https://localhost:8080/"
        },
        "id": "LqR8646RHkSk",
        "outputId": "d8fadb2c-ace9-459c-ba3b-d365504c635b"
      },
      "execution_count": null,
      "outputs": [
        {
          "output_type": "stream",
          "name": "stdout",
          "text": [
            "GradientBoostingRegressor with r2_score: 0.834086\n"
          ]
        }
      ]
    },
    {
      "cell_type": "code",
      "source": [
        "from IPython.display import display, HTML\n",
        "\n",
        "\n",
        "content = \"\"\"\n",
        "<div style=\"background-color: #90e0ef; padding: 20px; border-radius: 10px;\">\n",
        "    <h1>HyperParameter Tuning</h1>\n",
        "</div>\n",
        "\"\"\"\n",
        "\n",
        "# Display the HTML content\n",
        "display(HTML(content))"
      ],
      "metadata": {
        "execution": {
          "iopub.status.busy": "2024-05-27T12:10:26.133612Z",
          "iopub.execute_input": "2024-05-27T12:10:26.134133Z",
          "iopub.status.idle": "2024-05-27T12:10:26.142671Z",
          "shell.execute_reply.started": "2024-05-27T12:10:26.134095Z",
          "shell.execute_reply": "2024-05-27T12:10:26.141528Z"
        },
        "_kg_hide-input": true,
        "editable": false,
        "trusted": true,
        "colab": {
          "base_uri": "https://localhost:8080/",
          "height": 114
        },
        "id": "CbDVO-pfHkSk",
        "outputId": "7ec2fbb3-bef1-41aa-e1a9-6072979dd4d7"
      },
      "execution_count": null,
      "outputs": [
        {
          "output_type": "display_data",
          "data": {
            "text/plain": [
              "<IPython.core.display.HTML object>"
            ],
            "text/html": [
              "\n",
              "<div style=\"background-color: #90e0ef; padding: 20px; border-radius: 10px;\">\n",
              "    <h1>HyperParameter Tuning</h1>\n",
              "</div>\n"
            ]
          },
          "metadata": {}
        }
      ]
    },
    {
      "cell_type": "code",
      "source": [
        "# Print parameters of the best model\n",
        "print(\"=\" * 50)\n",
        "print(\"Best Model Parameters:\")\n",
        "for param_name, param_value in best_model.get_params().items():\n",
        "    print(f\"{param_name}: {param_value}\")\n"
      ],
      "metadata": {
        "execution": {
          "iopub.status.busy": "2024-05-27T12:01:35.366517Z",
          "iopub.execute_input": "2024-05-27T12:01:35.36713Z",
          "iopub.status.idle": "2024-05-27T12:01:35.375809Z",
          "shell.execute_reply.started": "2024-05-27T12:01:35.367098Z",
          "shell.execute_reply": "2024-05-27T12:01:35.374648Z"
        },
        "editable": false,
        "trusted": true,
        "colab": {
          "base_uri": "https://localhost:8080/"
        },
        "id": "hgNe5hqzHkSk",
        "outputId": "75d72a4d-dad6-4f5d-dd0f-10391062440a"
      },
      "execution_count": null,
      "outputs": [
        {
          "output_type": "stream",
          "name": "stdout",
          "text": [
            "==================================================\n",
            "Best Model Parameters:\n",
            "alpha: 0.9\n",
            "ccp_alpha: 0.0\n",
            "criterion: friedman_mse\n",
            "init: None\n",
            "learning_rate: 0.1\n",
            "loss: squared_error\n",
            "max_depth: 3\n",
            "max_features: None\n",
            "max_leaf_nodes: None\n",
            "min_impurity_decrease: 0.0\n",
            "min_samples_leaf: 1\n",
            "min_samples_split: 2\n",
            "min_weight_fraction_leaf: 0.0\n",
            "n_estimators: 100\n",
            "n_iter_no_change: None\n",
            "random_state: None\n",
            "subsample: 1.0\n",
            "tol: 0.0001\n",
            "validation_fraction: 0.1\n",
            "verbose: 0\n",
            "warm_start: False\n"
          ]
        }
      ]
    },
    {
      "cell_type": "markdown",
      "source": [
        "# Selection of params\n",
        "\n",
        "* n_estimators\n",
        "* learning_rate\n",
        "* max_depth\n",
        "* min_child_weight\n",
        "* gamma"
      ],
      "metadata": {
        "editable": false,
        "id": "dh88Q057HkSk"
      }
    },
    {
      "cell_type": "code",
      "source": [
        "from sklearn.model_selection import GridSearchCV\n",
        "import xgboost as xgb\n",
        "\n",
        "\n",
        "\n",
        "param_grid = {\n",
        "    'n_estimators': [100, 200, 300],\n",
        "    'learning_rate': [0.01, 0.1,1.0],\n",
        "    'max_depth': [3, 4, 5],\n",
        "    'min_child_weight': [1, 3, 5],\n",
        "    'gamma': [0, 0.1, 0.2]\n",
        "}\n",
        "\n",
        "\n",
        "xgb_model = xgb.XGBRegressor()\n",
        "\n",
        "# Perform Grid Search with cross-validation\n",
        "grid_search = GridSearchCV(estimator=xgb_model, param_grid=param_grid, cv=3, scoring='r2')\n",
        "tuner = grid_search.fit(X_train, y_train)\n",
        "\n",
        "# Get the best parameters and best R2 score\n",
        "best_params = tuner.best_params_\n",
        "best_score = tuner.best_score_\n",
        "\n",
        "print(\"Best Parameters:\", best_params)\n",
        "print(\"Best R2 Score:\", best_score)"
      ],
      "metadata": {
        "execution": {
          "iopub.status.busy": "2024-05-27T12:01:35.377527Z",
          "iopub.execute_input": "2024-05-27T12:01:35.377885Z",
          "iopub.status.idle": "2024-05-27T12:02:40.551463Z",
          "shell.execute_reply.started": "2024-05-27T12:01:35.377857Z",
          "shell.execute_reply": "2024-05-27T12:02:40.550373Z"
        },
        "editable": false,
        "trusted": true,
        "colab": {
          "base_uri": "https://localhost:8080/"
        },
        "id": "78c4xHulHkSt",
        "outputId": "d87a81c2-4f38-4a97-c174-82ddcb071548"
      },
      "execution_count": null,
      "outputs": [
        {
          "output_type": "stream",
          "name": "stdout",
          "text": [
            "Best Parameters: {'gamma': 0, 'learning_rate': 0.1, 'max_depth': 5, 'min_child_weight': 1, 'n_estimators': 200}\n",
            "Best R2 Score: 0.8387373223561934\n"
          ]
        }
      ]
    },
    {
      "cell_type": "code",
      "source": [
        "from IPython.display import display, HTML\n",
        "\n",
        "\n",
        "content = \"\"\"\n",
        "<div style=\"background-color: #90e0ef; padding: 20px; border-radius: 10px;\">\n",
        "    <h1>Feautre Importance Plot</h1>\n",
        "</div>\n",
        "\"\"\"\n",
        "\n",
        "# Display the HTML content\n",
        "display(HTML(content))"
      ],
      "metadata": {
        "execution": {
          "iopub.status.busy": "2024-05-27T12:10:43.273237Z",
          "iopub.execute_input": "2024-05-27T12:10:43.273674Z",
          "iopub.status.idle": "2024-05-27T12:10:43.281683Z",
          "shell.execute_reply.started": "2024-05-27T12:10:43.273642Z",
          "shell.execute_reply": "2024-05-27T12:10:43.280507Z"
        },
        "_kg_hide-input": true,
        "editable": false,
        "trusted": true,
        "colab": {
          "base_uri": "https://localhost:8080/",
          "height": 114
        },
        "id": "jDqStTsmHkSt",
        "outputId": "920a832d-f76e-4797-a7ae-10c1e2310192"
      },
      "execution_count": null,
      "outputs": [
        {
          "output_type": "display_data",
          "data": {
            "text/plain": [
              "<IPython.core.display.HTML object>"
            ],
            "text/html": [
              "\n",
              "<div style=\"background-color: #90e0ef; padding: 20px; border-radius: 10px;\">\n",
              "    <h1>Feautre Importance Plot</h1>\n",
              "</div>\n"
            ]
          },
          "metadata": {}
        }
      ]
    },
    {
      "cell_type": "code",
      "source": [
        "import xgboost as xgb\n",
        "import seaborn as sns\n",
        "import matplotlib.pyplot as plt\n",
        "\n",
        "# Train the XGBoost regressor\n",
        "xgb_model.fit(X_train, y_train)\n",
        "\n",
        "importance = xgb_model.feature_importances_\n",
        "\n",
        "\n",
        "feature_names =  ['Area','BHK','Bathroom','Furnishing','Locality','Parking','Status','Transaction','Type','Per_Sqft']\n",
        "feature_importance_dict = dict(zip(feature_names, importance))\n",
        "\n",
        "# Sort feature importance in descending order\n",
        "sorted_importance = sorted(feature_importance_dict.items(), key=lambda x: x[1], reverse=True)\n",
        "\n",
        "# Plot feature importance\n",
        "plt.figure(figsize=(10, 6))\n",
        "plt.barh(range(len(sorted_importance)), [val[1] for val in sorted_importance], align='center')\n",
        "plt.yticks(range(len(sorted_importance)), [val[0] for val in sorted_importance])\n",
        "plt.xlabel('Feature Importance')\n",
        "plt.ylabel('Feature')\n",
        "plt.title('XGBoost Regressor Feature Importance')\n",
        "plt.show()"
      ],
      "metadata": {
        "execution": {
          "iopub.status.busy": "2024-05-27T12:05:53.646549Z",
          "iopub.execute_input": "2024-05-27T12:05:53.647431Z",
          "iopub.status.idle": "2024-05-27T12:05:54.223944Z",
          "shell.execute_reply.started": "2024-05-27T12:05:53.647394Z",
          "shell.execute_reply": "2024-05-27T12:05:54.222825Z"
        },
        "editable": false,
        "trusted": true,
        "colab": {
          "base_uri": "https://localhost:8080/",
          "height": 573
        },
        "id": "CfNjRZ5sHkSt",
        "outputId": "a5dd561e-ddfb-4996-872d-ecb266430010"
      },
      "execution_count": null,
      "outputs": [
        {
          "output_type": "display_data",
          "data": {
            "text/plain": [
              "<Figure size 1000x600 with 1 Axes>"
            ],
            "image/png": "[encoded data removed]"
          },
          "metadata": {}
        }
      ]
    },
    {
      "cell_type": "markdown",
      "source": [
        "## Best R2_score is : 0.838 or 83.8 %"
      ],
      "metadata": {
        "editable": false,
        "id": "eG8ssw98HkSt"
      }
    }
  ]
}